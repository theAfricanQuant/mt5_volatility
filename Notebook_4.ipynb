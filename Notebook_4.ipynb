{
 "cells": [
  {
   "cell_type": "code",
   "execution_count": 1,
   "id": "1c572b51-122c-4910-aa4f-5cc6b423ce84",
   "metadata": {},
   "outputs": [],
   "source": [
    "%load_ext autoreload\n",
    "%autoreload 2"
   ]
  },
  {
   "cell_type": "code",
   "execution_count": 34,
   "id": "2689e7df-0f72-4573-b988-4b739f311b4d",
   "metadata": {},
   "outputs": [
    {
     "name": "stdout",
     "output_type": "stream",
     "text": [
      "Overwriting model.py\n"
     ]
    }
   ],
   "source": [
    "%%writefile model.py\n",
    "\n",
    "#\n",
    "# (c) Ricky Macharm, MScFE\n",
    "# https://SisengAI.com\n",
    "#\n",
    "\n",
    "\n",
    "import os\n",
    "from glob import glob\n",
    "\n",
    "from pathlib import Path\n",
    "import pandas as pd\n",
    "from arch import arch_model\n",
    "from config import settings\n",
    "from retrieve_data import MT5_Data, SQLiteRepo\n",
    "import joblib\n",
    "\n",
    "class GarchModel:\n",
    "    \"\"\"Class for training GARCH model and generating predictions.\n",
    "\n",
    "    Atttributes\n",
    "    -----------\n",
    "    ticker : str\n",
    "        Ticker symbol of the equity whose volatility will be predicted.\n",
    "    repo : SQLRepository\n",
    "        The repository where the training data will be stored.\n",
    "    use_new_data : bool\n",
    "        Whether to download new data from the AlphaVantage API to train\n",
    "        the model or to use the existing data stored in the repository.\n",
    "    model_directory : str\n",
    "        Path for directory where trained models will be stored.\n",
    "\n",
    "    Methods\n",
    "    -------\n",
    "    wrangle_data\n",
    "        Generate equity returns from data in database.\n",
    "    fit\n",
    "        Fit model to training data.\n",
    "    predict\n",
    "        Generate volatilty forecast from trained model.\n",
    "    dump\n",
    "        Save trained model to file.\n",
    "    load\n",
    "        Load trained model from file.\n",
    "    \"\"\"\n",
    "\n",
    "    def __init__(self, ticker, repo, use_new_data):\n",
    "    \n",
    "        self.ticker = ticker\n",
    "        self.repo = repo\n",
    "        self.use_new_data = use_new_data\n",
    "        self.model_directory = settings.model_directory\n",
    "\n",
    "    def calc_returns(self, n_observations):\n",
    "\n",
    "        \"\"\"Extract data from database (or get from our mt5 broker), transform it\n",
    "        for training model, and attach it to `self.data`.\n",
    "\n",
    "        Parameters\n",
    "        ----------\n",
    "        n_observations : int\n",
    "            Number of observations to retrieve from database\n",
    "\n",
    "        Returns\n",
    "        -------\n",
    "        None\n",
    "        \"\"\"\n",
    "        # Add new data to database if required\n",
    "        if self.use_new_data:\n",
    "            # instantiate an API Class\n",
    "            api = MT5_Data()\n",
    "            # Get data\n",
    "            new_data = api.ticker_data(ticker=self.ticker)\n",
    "            # insert data in repo\n",
    "            self.repo.insert_table(\n",
    "                table_name=self.ticker, records=new_data,\n",
    "                if_exists=\"replace\"\n",
    "            )\n",
    "\n",
    "        # Pull data from SQL database & Clean data, attach to class as `data` attribute\n",
    "        self.data = ((self.repo.\n",
    "            read_table(table_name=self.ticker, limit=n_observations+1)\n",
    "            .assign(returns = lambda x: 100*x[\"close\"].pct_change())\n",
    "            .dropna())[\"returns\"]\n",
    "             )\n",
    "\n",
    "    def fit(self, p, q):\n",
    "\n",
    "        \"\"\"Create model, fit to `self.data`, and attach to `self.model` attribute.\n",
    "        For assignment, also assigns adds metrics to `self.aic` and `self.bic`.\n",
    "\n",
    "        Parameters\n",
    "        ----------\n",
    "        p : int\n",
    "            Lag order of the symmetric innovation\n",
    "\n",
    "        q : ind\n",
    "            Lag order of lagged volatility\n",
    "\n",
    "        Returns\n",
    "        -------\n",
    "        None\n",
    "        \"\"\"\n",
    "        # Train Model, attach to `self.model`\n",
    "        self.model = arch_model(self.data, p=p, q=q, rescale=False).fit(disp=0)\n",
    "        self.aic = self.model.aic\n",
    "        self.bic = self.model.bic\n",
    "        \n",
    "\n",
    "    def __clean_prediction(self, prediction):\n",
    "\n",
    "        \"\"\"Reformat model prediction to JSON.\n",
    "\n",
    "        Parameters\n",
    "        ----------\n",
    "        prediction : pd.DataFrame\n",
    "            Variance from a `ARCHModelForecast`\n",
    "\n",
    "        Returns\n",
    "        -------\n",
    "        dict\n",
    "            Forecast of volatility. Each key is date in ISO 8601 format.\n",
    "            Each value is predicted volatility.\n",
    "        \"\"\"\n",
    "         #  Calculate forecast start date\n",
    "        start = prediction.index[0] + pd.DateOffset(days=1)\n",
    "\n",
    "        # Create date range\n",
    "        prediction_dates = pd.bdate_range(start=start, periods=prediction.shape[1])\n",
    "\n",
    "        # Create prediction index labels, ISO 8601 format\n",
    "        prediction_index = [d.isoformat() for d in prediction_dates]\n",
    "\n",
    "\n",
    "        # Extract predictions from DataFrame, get square root\n",
    "        data = prediction.values.flatten() ** .5\n",
    "\n",
    "        # Combine `data` and `prediction_index` into Series & Return Series as dictionary\n",
    "        return pd.Series(data, index=prediction_index).to_dict()\n",
    "\n",
    "    def predict_volatility(self, horizon):\n",
    "\n",
    "        \"\"\"Predict volatility using `self.model`\n",
    "\n",
    "        Parameters\n",
    "        ----------\n",
    "        horizon : int\n",
    "            Horizon of forecast, by default 5.\n",
    "\n",
    "        Returns\n",
    "        -------\n",
    "        dict\n",
    "            Forecast of volatility. Each key is date in ISO 8601 format.\n",
    "            Each value is predicted volatility.\n",
    "        \"\"\"\n",
    "        # Generate variance forecast from `self.model`\n",
    "        prediction = self.model.forecast(horizon=horizon, reindex=False).variance\n",
    "\n",
    "        # Format prediction with `self.__clean_predction` & Return `prediction_formatted`\n",
    "        \n",
    "        return self.__clean_prediction(prediction)\n",
    "\n",
    "    def dump(self):\n",
    "\n",
    "        \"\"\"Save model to `self.model_directory` with timestamp.\n",
    "\n",
    "        Returns\n",
    "        -------\n",
    "        str\n",
    "            filepath where model was saved.\n",
    "        \"\"\"\n",
    "        # Create timestamp in ISO format\n",
    "        timestamp = (pd.Timestamp.now()\n",
    "             .isoformat()\n",
    "             .replace(\":\", \".\")\n",
    "            )\n",
    "        \n",
    "        # Create directory if it doesn't exist\n",
    "        os.makedirs(self.model_directory, exist_ok=True)\n",
    "        # Create filepath, including `self.model_directory`\n",
    "        filepath =  Path(f\"{self.model_directory}/{self.ticker}_{timestamp}.pkl\")\n",
    "        \n",
    "        # Save `self.model`\n",
    "        joblib.dump(self.model, filepath)\n",
    "    \n",
    "        \n",
    "        # Return filepath\n",
    "        return str(filepath)\n",
    "\n",
    "    def load(self):\n",
    "\n",
    "        \"\"\"Load most recent model in `self.model_directory` for `self.ticker`,\n",
    "        attach to `self.model` attribute.\n",
    "\n",
    "        \"\"\"\n",
    "        # Create pattern for glob search\n",
    "        pattern = str(Path(f\"{self.model_directory}/{self.ticker}*.pkl\"))\n",
    "        \n",
    "\n",
    "        # Try to find path of latest model\n",
    "        try:\n",
    "            model_path = sorted(glob(pattern))[-1]\n",
    "\n",
    "        # Handle possible `IndexError`\n",
    "        except IndexError:\n",
    "            raise Exception(f\"There are no trained models for {self.ticker}\")\n",
    "\n",
    "        # Load model & attach to `self.model`\n",
    "        self.model = joblib.load(model_path)\n",
    "        \n",
    "        \n"
   ]
  },
  {
   "cell_type": "code",
   "execution_count": 2,
   "id": "87231e3f-18a1-4f07-8579-3f33831cd5e1",
   "metadata": {},
   "outputs": [],
   "source": [
    "import os\n",
    "import sqlite3\n",
    "from glob import glob\n",
    "\n",
    "from pathlib import Path\n",
    "import pandas as pd\n",
    "import requests\n",
    "from arch.univariate.base import ARCHModelResult\n",
    "from config import settings\n",
    "from retrieve_data import *\n",
    "import pickle"
   ]
  },
  {
   "cell_type": "code",
   "execution_count": 3,
   "id": "d81f67b7-8372-4a83-a7c5-8bf03054f103",
   "metadata": {},
   "outputs": [
    {
     "name": "stdout",
     "output_type": "stream",
     "text": [
      "repo type: <class 'retrieve_data.SQLiteRepo'>\n",
      "repo.connection type: <class 'sqlite3.Connection'>\n"
     ]
    }
   ],
   "source": [
    "connection = sqlite3.connect(settings.db_name, check_same_thread=False)\n",
    "repo = SQLiteRepo(connection=connection) \n",
    "\n",
    "print(\"repo type:\", type(repo))\n",
    "print(\"repo.connection type:\", type(repo.connection))"
   ]
  },
  {
   "cell_type": "code",
   "execution_count": 4,
   "id": "83100c5d-3f89-4582-94aa-5c281a562d94",
   "metadata": {},
   "outputs": [],
   "source": [
    "from model import GarchModel\n",
    "\n",
    "# Instantiate a `GarchModel`\n",
    "df_ticker = GarchModel(ticker=\"GBPUSD\", repo=repo, use_new_data=False)\n",
    "\n",
    "# Does `gm_ambuja` have the correct attributes?\n",
    "assert df_ticker.ticker == \"GBPUSD\"\n",
    "assert df_ticker.repo == repo\n",
    "assert not df_ticker.use_new_data\n",
    "assert df_ticker.model_directory == settings.model_directory"
   ]
  },
  {
   "cell_type": "code",
   "execution_count": 7,
   "id": "e0897d24-6391-43bb-8f8b-04dc038720f0",
   "metadata": {},
   "outputs": [
    {
     "name": "stdout",
     "output_type": "stream",
     "text": [
      "['_GarchModel__clean_prediction', '__class__', '__delattr__', '__dict__', '__dir__', '__doc__', '__eq__', '__format__', '__ge__', '__getattribute__', '__gt__', '__hash__', '__init__', '__init_subclass__', '__le__', '__lt__', '__module__', '__ne__', '__new__', '__reduce__', '__reduce_ex__', '__repr__', '__setattr__', '__sizeof__', '__str__', '__subclasshook__', '__weakref__', 'calc_returns', 'dump', 'fit', 'load', 'model_directory', 'predict_volatility', 'repo', 'ticker', 'use_new_data']\n"
     ]
    }
   ],
   "source": [
    "print(dir(df_ticker))"
   ]
  },
  {
   "cell_type": "code",
   "execution_count": null,
   "id": "783c28d7-c6d3-45aa-9dbe-474d50b9027d",
   "metadata": {},
   "outputs": [],
   "source": [
    "MT5_Data().ticker_list()"
   ]
  },
  {
   "cell_type": "code",
   "execution_count": 5,
   "id": "5a7ee936-57de-46de-a06c-8d9294c15b9c",
   "metadata": {},
   "outputs": [
    {
     "name": "stdout",
     "output_type": "stream",
     "text": [
      "EURGBP\n"
     ]
    },
    {
     "data": {
      "text/plain": [
       "date\n",
       "2023-02-20   -0.140671\n",
       "2023-02-21   -0.935369\n",
       "2023-02-22    0.136511\n",
       "2023-02-23    0.152229\n",
       "2023-02-24    0.158804\n",
       "Name: returns, dtype: float64"
      ]
     },
     "execution_count": 5,
     "metadata": {},
     "output_type": "execute_result"
    }
   ],
   "source": [
    "ticker = \"EURGBP\"\n",
    "\n",
    "# Instantiate `GarchModel`, use new data\n",
    "model_shop = GarchModel(ticker=ticker, repo=repo, use_new_data=True)\n",
    "\n",
    "# Check that model doesn't have `data` attribute yet\n",
    "assert not hasattr(model_shop, \"data\")\n",
    "\n",
    "# Wrangle data\n",
    "model_shop.calc_returns(n_observations=1000)\n",
    "\n",
    "# Does model now have `data` attribute?\n",
    "assert hasattr(model_shop, \"data\")\n",
    "\n",
    "# Is the `data` a Series?\n",
    "assert isinstance(model_shop.data, pd.Series)\n",
    "\n",
    "# Is Series correct shape?\n",
    "assert model_shop.data.shape == (1000,)\n",
    "\n",
    "print(ticker)\n",
    "model_shop.data.tail()"
   ]
  },
  {
   "cell_type": "code",
   "execution_count": 6,
   "id": "d2f176cc-2a60-4eea-b50f-d5e573e8a15b",
   "metadata": {},
   "outputs": [
    {
     "name": "stdout",
     "output_type": "stream",
     "text": [
      "EURJPY\n"
     ]
    },
    {
     "data": {
      "text/plain": [
       "date\n",
       "2023-02-20   -0.149945\n",
       "2023-02-21    0.404412\n",
       "2023-02-22   -0.484870\n",
       "2023-02-23   -0.258645\n",
       "2023-02-24    0.836820\n",
       "Name: returns, dtype: float64"
      ]
     },
     "execution_count": 6,
     "metadata": {},
     "output_type": "execute_result"
    }
   ],
   "source": [
    "ticker = \"EURJPY\"\n",
    "\n",
    "# Instantiate `GarchModel`, use new data\n",
    "model_shop = GarchModel(ticker=ticker, repo=repo, use_new_data=True)\n",
    "\n",
    "# Check that model doesn't have `data` attribute yet\n",
    "assert not hasattr(model_shop, \"data\")\n",
    "\n",
    "# Wrangle data\n",
    "model_shop.calc_returns(n_observations=1000)\n",
    "\n",
    "# Does model now have `data` attribute?\n",
    "assert hasattr(model_shop, \"data\")\n",
    "\n",
    "# Is the `data` a Series?\n",
    "assert isinstance(model_shop.data, pd.Series)\n",
    "\n",
    "# Is Series correct shape?\n",
    "assert model_shop.data.shape == (1000,)\n",
    "\n",
    "print(ticker)\n",
    "model_shop.data.tail()"
   ]
  },
  {
   "cell_type": "code",
   "execution_count": 7,
   "id": "1041236e-ca71-4215-941c-76d35c534aef",
   "metadata": {},
   "outputs": [
    {
     "name": "stdout",
     "output_type": "stream",
     "text": [
      "US30\n"
     ]
    },
    {
     "data": {
      "text/plain": [
       "date\n",
       "2023-02-20   -0.197926\n",
       "2023-02-21   -1.774207\n",
       "2023-02-22   -0.210941\n",
       "2023-02-23    0.129852\n",
       "2023-02-24   -1.081498\n",
       "Name: returns, dtype: float64"
      ]
     },
     "execution_count": 7,
     "metadata": {},
     "output_type": "execute_result"
    }
   ],
   "source": [
    "ticker = \"US30\"\n",
    "\n",
    "# Instantiate `GarchModel`, use new data\n",
    "model_shop = GarchModel(ticker=ticker, repo=repo, use_new_data=True)\n",
    "\n",
    "# Check that model doesn't have `data` attribute yet\n",
    "assert not hasattr(model_shop, \"data\")\n",
    "\n",
    "# Wrangle data\n",
    "model_shop.calc_returns(n_observations=1000)\n",
    "\n",
    "# Does model now have `data` attribute?\n",
    "assert hasattr(model_shop, \"data\")\n",
    "\n",
    "# Is the `data` a Series?\n",
    "assert isinstance(model_shop.data, pd.Series)\n",
    "\n",
    "# Is Series correct shape?\n",
    "assert model_shop.data.shape == (1000,)\n",
    "\n",
    "print(ticker)\n",
    "model_shop.data.tail()"
   ]
  },
  {
   "cell_type": "code",
   "execution_count": 8,
   "id": "57439cda-1f0f-4c06-80cd-a51864bc8e79",
   "metadata": {},
   "outputs": [
    {
     "data": {
      "text/html": [
       "<table class=\"simpletable\">\n",
       "<caption>Constant Mean - GARCH Model Results</caption>\n",
       "<tr>\n",
       "  <th>Dep. Variable:</th>       <td>returns</td>      <th>  R-squared:         </th>  <td>   0.000</td> \n",
       "</tr>\n",
       "<tr>\n",
       "  <th>Mean Model:</th>       <td>Constant Mean</td>   <th>  Adj. R-squared:    </th>  <td>   0.000</td> \n",
       "</tr>\n",
       "<tr>\n",
       "  <th>Vol Model:</th>            <td>GARCH</td>       <th>  Log-Likelihood:    </th> <td>  -1444.53</td>\n",
       "</tr>\n",
       "<tr>\n",
       "  <th>Distribution:</th>        <td>Normal</td>       <th>  AIC:               </th> <td>   2897.06</td>\n",
       "</tr>\n",
       "<tr>\n",
       "  <th>Method:</th>        <td>Maximum Likelihood</td> <th>  BIC:               </th> <td>   2916.70</td>\n",
       "</tr>\n",
       "<tr>\n",
       "  <th></th>                        <td></td>          <th>  No. Observations:  </th>    <td>1000</td>   \n",
       "</tr>\n",
       "<tr>\n",
       "  <th>Date:</th>           <td>Fri, Feb 24 2023</td>  <th>  Df Residuals:      </th>     <td>999</td>   \n",
       "</tr>\n",
       "<tr>\n",
       "  <th>Time:</th>               <td>21:46:00</td>      <th>  Df Model:          </th>      <td>1</td>    \n",
       "</tr>\n",
       "</table>\n",
       "<table class=\"simpletable\">\n",
       "<caption>Mean Model</caption>\n",
       "<tr>\n",
       "   <td></td>     <th>coef</th>     <th>std err</th>      <th>t</th>       <th>P>|t|</th>    <th>95.0% Conf. Int.</th>  \n",
       "</tr>\n",
       "<tr>\n",
       "  <th>mu</th> <td>    0.0607</td> <td>2.660e-02</td> <td>    2.281</td> <td>2.256e-02</td> <td>[8.538e-03,  0.113]</td>\n",
       "</tr>\n",
       "</table>\n",
       "<table class=\"simpletable\">\n",
       "<caption>Volatility Model</caption>\n",
       "<tr>\n",
       "      <td></td>        <th>coef</th>     <th>std err</th>      <th>t</th>        <th>P>|t|</th>    <th>95.0% Conf. Int.</th>  \n",
       "</tr>\n",
       "<tr>\n",
       "  <th>omega</th>    <td>    0.0665</td> <td>1.949e-02</td> <td>    3.410</td>  <td>6.488e-04</td> <td>[2.826e-02,  0.105]</td>\n",
       "</tr>\n",
       "<tr>\n",
       "  <th>alpha[1]</th> <td>    0.2026</td> <td>4.020e-02</td> <td>    5.040</td>  <td>4.651e-07</td>  <td>[  0.124,  0.281]</td> \n",
       "</tr>\n",
       "<tr>\n",
       "  <th>beta[1]</th>  <td>    0.7595</td> <td>3.376e-02</td> <td>   22.499</td> <td>4.291e-112</td>  <td>[  0.693,  0.826]</td> \n",
       "</tr>\n",
       "</table><br/><br/>Covariance estimator: robust"
      ],
      "text/plain": [
       "<class 'statsmodels.iolib.summary.Summary'>\n",
       "\"\"\"\n",
       "                     Constant Mean - GARCH Model Results                      \n",
       "==============================================================================\n",
       "Dep. Variable:                returns   R-squared:                       0.000\n",
       "Mean Model:             Constant Mean   Adj. R-squared:                  0.000\n",
       "Vol Model:                      GARCH   Log-Likelihood:               -1444.53\n",
       "Distribution:                  Normal   AIC:                           2897.06\n",
       "Method:            Maximum Likelihood   BIC:                           2916.70\n",
       "                                        No. Observations:                 1000\n",
       "Date:                Fri, Feb 24 2023   Df Residuals:                      999\n",
       "Time:                        21:46:00   Df Model:                            1\n",
       "                                Mean Model                                \n",
       "==========================================================================\n",
       "                 coef    std err          t      P>|t|    95.0% Conf. Int.\n",
       "--------------------------------------------------------------------------\n",
       "mu             0.0607  2.660e-02      2.281  2.256e-02 [8.538e-03,  0.113]\n",
       "                             Volatility Model                             \n",
       "==========================================================================\n",
       "                 coef    std err          t      P>|t|    95.0% Conf. Int.\n",
       "--------------------------------------------------------------------------\n",
       "omega          0.0665  1.949e-02      3.410  6.488e-04 [2.826e-02,  0.105]\n",
       "alpha[1]       0.2026  4.020e-02      5.040  4.651e-07   [  0.124,  0.281]\n",
       "beta[1]        0.7595  3.376e-02     22.499 4.291e-112   [  0.693,  0.826]\n",
       "==========================================================================\n",
       "\n",
       "Covariance estimator: robust\n",
       "\"\"\""
      ]
     },
     "execution_count": 8,
     "metadata": {},
     "output_type": "execute_result"
    }
   ],
   "source": [
    "ticker = \"US30\"\n",
    "# Instantiate `GarchModel`, use old data\n",
    "model_shop = GarchModel(ticker=ticker, repo=repo, use_new_data=False)\n",
    "\n",
    "# Wrangle data\n",
    "model_shop.calc_returns(n_observations=1000)\n",
    "\n",
    "# Fit GARCH(1,1) model to data\n",
    "model_shop.fit(p=1, q=1)\n",
    "\n",
    "# Does `model_shop` have a `model` attribute now?\n",
    "assert hasattr(model_shop, \"model\")\n",
    "\n",
    "# Is model correct data type?\n",
    "assert isinstance(model_shop.model, ARCHModelResult)\n",
    "\n",
    "# Does model have correct parameters?\n",
    "assert model_shop.model.params.index.tolist() == [\"mu\", \"omega\", \"alpha[1]\", \"beta[1]\"]\n",
    "\n",
    "# Check model parameters\n",
    "model_shop.model.summary()"
   ]
  },
  {
   "cell_type": "code",
   "execution_count": 9,
   "id": "237aa88b-3823-432d-80ce-36844905dfac",
   "metadata": {},
   "outputs": [
    {
     "data": {
      "text/plain": [
       "{'2023-02-27T00:00:00': 0.9889565243747797,\n",
       " '2023-02-28T00:00:00': 1.0036816388365841,\n",
       " '2023-03-01T00:00:00': 1.017646871909975,\n",
       " '2023-03-02T00:00:00': 1.0309036012115818,\n",
       " '2023-03-03T00:00:00': 1.0434983097042294}"
      ]
     },
     "execution_count": 9,
     "metadata": {},
     "output_type": "execute_result"
    }
   ],
   "source": [
    "# Generate prediction from `model_shop`\n",
    "prediction = model_shop.predict_volatility(horizon=5)\n",
    "\n",
    "# Is prediction a dictionary?\n",
    "assert isinstance(prediction, dict)\n",
    "\n",
    "# Are keys correct data type?\n",
    "assert all(isinstance(k, str) for k in prediction.keys())\n",
    "\n",
    "# Are values correct data type?\n",
    "assert all(isinstance(v, float) for v in prediction.values())\n",
    "\n",
    "prediction"
   ]
  },
  {
   "cell_type": "code",
   "execution_count": 10,
   "id": "2d0e8c80-d407-491f-917c-f56ee2bfdeb0",
   "metadata": {},
   "outputs": [
    {
     "data": {
      "text/plain": [
       "'models'"
      ]
     },
     "execution_count": 10,
     "metadata": {},
     "output_type": "execute_result"
    }
   ],
   "source": [
    "model_directory = settings.model_directory\n",
    "model_directory"
   ]
  },
  {
   "cell_type": "code",
   "execution_count": 25,
   "id": "e76f3a31-a26c-485e-95dd-dc8513176396",
   "metadata": {},
   "outputs": [
    {
     "data": {
      "text/plain": [
       "'models\\\\US30_2023-02-24T22.07.58.277325.pkl'"
      ]
     },
     "execution_count": 25,
     "metadata": {},
     "output_type": "execute_result"
    }
   ],
   "source": [
    "from model import GarchModel\n",
    "\n",
    "ticker = \"US30\"\n",
    "# Instantiate `GarchModel`, use old data\n",
    "model_shop = GarchModel(ticker=ticker, repo=repo, use_new_data=False)\n",
    "\n",
    "# Wrangle data\n",
    "model_shop.calc_returns(n_observations=1000)\n",
    "\n",
    "# Fit GARCH(1,1) model to data\n",
    "model_shop.fit(p=1, q=1)\n",
    "\n",
    "model_shop.model.summary()\n",
    "\n",
    "# Save `model_shop` model, assign filename\n",
    "filename = model_shop.dump()\n",
    "\n",
    "# Is `filename` a string?\n",
    "assert isinstance(filename, str)\n",
    "\n",
    "# Does filename include ticker symbol?\n",
    "assert model_shop.ticker in filename\n",
    "\n",
    "# Does file exist?\n",
    "assert os.path.exists(filename)\n",
    "\n",
    "filename"
   ]
  },
  {
   "cell_type": "code",
   "execution_count": 26,
   "id": "f16607fb-d63c-4775-8112-e706977fc609",
   "metadata": {},
   "outputs": [
    {
     "data": {
      "text/plain": [
       "'models\\\\US30_2023-02-24T22.07.58.277325.pkl'"
      ]
     },
     "execution_count": 26,
     "metadata": {},
     "output_type": "execute_result"
    }
   ],
   "source": [
    "pattern = os.path.join(settings.model_directory, f\"{ticker}*.pkl\")\n",
    "model_path = sorted(glob(pattern))[-1]\n",
    "model_path"
   ]
  },
  {
   "cell_type": "code",
   "execution_count": 21,
   "id": "04044899-e5c3-401e-95de-2b0dab5da64f",
   "metadata": {},
   "outputs": [
    {
     "data": {
      "text/plain": [
       "'models\\\\US30_2023-02-24T21.46.30.638308.pkl'"
      ]
     },
     "execution_count": 21,
     "metadata": {},
     "output_type": "execute_result"
    }
   ],
   "source": [
    "pattern = str(Path(f\"{settings.model_directory}/{ticker}*.pkl\"))\n",
    "model_path = sorted(glob(pattern))[-1]\n",
    "model_path"
   ]
  },
  {
   "cell_type": "code",
   "execution_count": 24,
   "id": "89da7e08-449b-4234-99e8-9eab8a24cc5e",
   "metadata": {},
   "outputs": [
    {
     "data": {
      "text/plain": [
       "'models\\\\US30_2023-02-24T22.07.14.270180.pkl'"
      ]
     },
     "execution_count": 24,
     "metadata": {},
     "output_type": "execute_result"
    }
   ],
   "source": [
    "from model import GarchModel\n",
    "\n",
    "# Save `model_shop` model, assign filename\n",
    "filename = model_shop.dump()\n",
    "\n",
    "# Is `filename` a string?\n",
    "# assert isinstance(filename, str)\n",
    "\n",
    "# Does filename include ticker symbol?\n",
    "assert model_shop.ticker in filename\n",
    "\n",
    "# Does file exist?\n",
    "assert os.path.exists(filename)\n",
    "\n",
    "filename"
   ]
  },
  {
   "cell_type": "code",
   "execution_count": 30,
   "id": "4ec89fba-7ae2-43ce-8992-f709140f4940",
   "metadata": {},
   "outputs": [
    {
     "data": {
      "text/html": [
       "<table class=\"simpletable\">\n",
       "<caption>Constant Mean - GARCH Model Results</caption>\n",
       "<tr>\n",
       "  <th>Dep. Variable:</th>       <td>returns</td>      <th>  R-squared:         </th>  <td>   0.000</td> \n",
       "</tr>\n",
       "<tr>\n",
       "  <th>Mean Model:</th>       <td>Constant Mean</td>   <th>  Adj. R-squared:    </th>  <td>   0.000</td> \n",
       "</tr>\n",
       "<tr>\n",
       "  <th>Vol Model:</th>            <td>GARCH</td>       <th>  Log-Likelihood:    </th> <td>  -1444.53</td>\n",
       "</tr>\n",
       "<tr>\n",
       "  <th>Distribution:</th>        <td>Normal</td>       <th>  AIC:               </th> <td>   2897.06</td>\n",
       "</tr>\n",
       "<tr>\n",
       "  <th>Method:</th>        <td>Maximum Likelihood</td> <th>  BIC:               </th> <td>   2916.70</td>\n",
       "</tr>\n",
       "<tr>\n",
       "  <th></th>                        <td></td>          <th>  No. Observations:  </th>    <td>1000</td>   \n",
       "</tr>\n",
       "<tr>\n",
       "  <th>Date:</th>           <td>Fri, Feb 24 2023</td>  <th>  Df Residuals:      </th>     <td>999</td>   \n",
       "</tr>\n",
       "<tr>\n",
       "  <th>Time:</th>               <td>22:07:58</td>      <th>  Df Model:          </th>      <td>1</td>    \n",
       "</tr>\n",
       "</table>\n",
       "<table class=\"simpletable\">\n",
       "<caption>Mean Model</caption>\n",
       "<tr>\n",
       "   <td></td>     <th>coef</th>     <th>std err</th>      <th>t</th>       <th>P>|t|</th>    <th>95.0% Conf. Int.</th>  \n",
       "</tr>\n",
       "<tr>\n",
       "  <th>mu</th> <td>    0.0607</td> <td>2.660e-02</td> <td>    2.281</td> <td>2.256e-02</td> <td>[8.538e-03,  0.113]</td>\n",
       "</tr>\n",
       "</table>\n",
       "<table class=\"simpletable\">\n",
       "<caption>Volatility Model</caption>\n",
       "<tr>\n",
       "      <td></td>        <th>coef</th>     <th>std err</th>      <th>t</th>        <th>P>|t|</th>    <th>95.0% Conf. Int.</th>  \n",
       "</tr>\n",
       "<tr>\n",
       "  <th>omega</th>    <td>    0.0665</td> <td>1.949e-02</td> <td>    3.410</td>  <td>6.488e-04</td> <td>[2.826e-02,  0.105]</td>\n",
       "</tr>\n",
       "<tr>\n",
       "  <th>alpha[1]</th> <td>    0.2026</td> <td>4.020e-02</td> <td>    5.040</td>  <td>4.651e-07</td>  <td>[  0.124,  0.281]</td> \n",
       "</tr>\n",
       "<tr>\n",
       "  <th>beta[1]</th>  <td>    0.7595</td> <td>3.376e-02</td> <td>   22.499</td> <td>4.291e-112</td>  <td>[  0.693,  0.826]</td> \n",
       "</tr>\n",
       "</table><br/><br/>Covariance estimator: robust"
      ],
      "text/plain": [
       "<class 'statsmodels.iolib.summary.Summary'>\n",
       "\"\"\"\n",
       "                     Constant Mean - GARCH Model Results                      \n",
       "==============================================================================\n",
       "Dep. Variable:                returns   R-squared:                       0.000\n",
       "Mean Model:             Constant Mean   Adj. R-squared:                  0.000\n",
       "Vol Model:                      GARCH   Log-Likelihood:               -1444.53\n",
       "Distribution:                  Normal   AIC:                           2897.06\n",
       "Method:            Maximum Likelihood   BIC:                           2916.70\n",
       "                                        No. Observations:                 1000\n",
       "Date:                Fri, Feb 24 2023   Df Residuals:                      999\n",
       "Time:                        22:07:58   Df Model:                            1\n",
       "                                Mean Model                                \n",
       "==========================================================================\n",
       "                 coef    std err          t      P>|t|    95.0% Conf. Int.\n",
       "--------------------------------------------------------------------------\n",
       "mu             0.0607  2.660e-02      2.281  2.256e-02 [8.538e-03,  0.113]\n",
       "                             Volatility Model                             \n",
       "==========================================================================\n",
       "                 coef    std err          t      P>|t|    95.0% Conf. Int.\n",
       "--------------------------------------------------------------------------\n",
       "omega          0.0665  1.949e-02      3.410  6.488e-04 [2.826e-02,  0.105]\n",
       "alpha[1]       0.2026  4.020e-02      5.040  4.651e-07   [  0.124,  0.281]\n",
       "beta[1]        0.7595  3.376e-02     22.499 4.291e-112   [  0.693,  0.826]\n",
       "==========================================================================\n",
       "\n",
       "Covariance estimator: robust\n",
       "\"\"\""
      ]
     },
     "execution_count": 30,
     "metadata": {},
     "output_type": "execute_result"
    }
   ],
   "source": [
    "model_shop = GarchModel(ticker=\"US30\", repo=repo, use_new_data=False)\n",
    "\n",
    "# Check that new `model_shop_test` doesn't have model attached\n",
    "assert not hasattr(model_shop, \"model\")\n",
    "\n",
    "# Load model\n",
    "model_shop.load()\n",
    "\n",
    "# Does `model_shop_test` have model attached?\n",
    "assert hasattr(model_shop, \"model\")\n",
    "\n",
    "model_shop.model.summary()"
   ]
  },
  {
   "cell_type": "code",
   "execution_count": 44,
   "id": "40955398-294e-4255-b04d-ffbf084e147a",
   "metadata": {},
   "outputs": [
    {
     "name": "stdout",
     "output_type": "stream",
     "text": [
      "Overwriting main_module.py\n"
     ]
    }
   ],
   "source": [
    "%%writefile main_module.py\n",
    "\n",
    "#\n",
    "# (c) Ricky Macharm, MScFE\n",
    "# https://SisengAI.com\n",
    "#\n",
    "\n",
    "import sqlite3\n",
    "\n",
    "from config import settings\n",
    "from retrieve_data import SQLiteRepo\n",
    "from fastapi import FastAPI\n",
    "from model import GarchModel\n",
    "from pydantic import BaseModel\n",
    "\n",
    "\n",
    "# `FitIn` class\n",
    "class FitIn(BaseModel):\n",
    "    ticker: str\n",
    "    use_new_data: bool\n",
    "    n_observations: int\n",
    "    p: int\n",
    "    q: int\n",
    "\n",
    "\n",
    "#  `FitOut` class\n",
    "class FitOut(FitIn):\n",
    "    success: bool\n",
    "    message: str\n",
    "\n",
    "\n",
    "#  `PredictIn` class\n",
    "class PredictIn(BaseModel):\n",
    "    ticker: str\n",
    "    n_days: int\n",
    "\n",
    "\n",
    "#  `PredictOut` class\n",
    "class PredictOut(PredictIn):\n",
    "    success: bool\n",
    "    forecast: dict\n",
    "    message: str\n",
    "\n",
    "\n",
    "\n",
    "def build_model(ticker: str, use_new_data: bool = False) -> GarchModel:\n",
    "\n",
    "    # Create DB connection\n",
    "    connection = sqlite3.connect(settings.db_name, check_same_thread=False)\n",
    "\n",
    "    # Create `SQLRepository`\n",
    "    repo = SQLiteRepo(connection=connection)\n",
    "\n",
    "    # Create model & Return model\n",
    "    return GarchModel(ticker=ticker, use_new_data=use_new_data, repo=repo)\n",
    "\n",
    "\n",
    "\n",
    "\n",
    "app = FastAPI()\n",
    "\n",
    "\n",
    "\n",
    "# `\"/hello\" path with 200 status code\n",
    "@app.get(\"/hello\", status_code=200)\n",
    "def hello():\n",
    "    \"\"\"Return dictionary with greeting message.\"\"\"\n",
    "    return {\"message\":\"Hello World, I am live!\"}\n",
    "\n",
    "\n",
    "\n",
    "#  `\"/fit\" path, 200 status code\n",
    "@app.post(\"/fit\", status_code=200, response_model=FitOut)\n",
    "def fit_model(request: FitIn):\n",
    "\n",
    "    \"\"\"Fit model, return confirmation message.\n",
    "\n",
    "    Parameters\n",
    "    ----------\n",
    "    request : FitIn\n",
    "\n",
    "    Returns\n",
    "    ------\n",
    "    dict\n",
    "        Must conform to `FitOut` class\n",
    "    \"\"\"\n",
    "    # Create `response` dictionary from `request`\n",
    "    response = request.dict()\n",
    "\n",
    "    # Create try block to handle exceptions\n",
    "    try:\n",
    "        # Build model with `build_model` function\n",
    "        model = build_model(ticker=request.ticker, \n",
    "                            use_new_data=request.use_new_data)\n",
    "\n",
    "        # Wrangle data\n",
    "        model.calc_returns(n_observations=request.n_observations)\n",
    "\n",
    "        # Fit model\n",
    "        model.fit(p=request.p, q=request.q)\n",
    "\n",
    "        # Save model\n",
    "        filename = model.dump()\n",
    "\n",
    "        # Add `\"success\"` key to `response`\n",
    "        response[\"success\"] = True\n",
    "\n",
    "        # Add `\"message\"` key to `response` with `filename`\n",
    "        response[\"message\"] = f\"Trained and saved '{filename}'. Metrics: AIC {model.aic}, BIC {model.bic}.\"\n",
    "        \n",
    "    # Create except block\n",
    "    except Exception as e:\n",
    "        # Add `\"success\"` key to `response`\n",
    "        response[\"success\"] = False\n",
    "\n",
    "        # Add `\"message\"` key to `response` with error message\n",
    "        response[\"message\"] = str(e)\n",
    "\n",
    "    # Return response\n",
    "    return response\n",
    "\n",
    "\n",
    "#  `\"/predict\" path, 200 status code\n",
    "@app.post(\"/predict\", status_code=200, response_model=PredictOut)\n",
    "def get_prediction(request: PredictIn):\n",
    "\n",
    "    # Create `response` dictionary from `request`\n",
    "    response = request.dict()\n",
    "\n",
    "    # Create try block to handle exceptions\n",
    "    try:\n",
    "        # Build model with `build_model` function\n",
    "        model = build_model(ticker=request.ticker, use_new_data=False)\n",
    "\n",
    "        # Load stored model\n",
    "        model.load()\n",
    "\n",
    "        # Generate prediction\n",
    "        prediction = model.predict_volatility(horizon=request.n_days)\n",
    "\n",
    "        # Add `\"success\"` key to `response`\n",
    "        response[\"success\"] = True\n",
    "\n",
    "        # Add `\"forecast\"` key to `response`\n",
    "        response[\"forecast\"] = prediction\n",
    "\n",
    "        # Add `\"message\"` key to `response`\n",
    "        response[\"message\"] = \"\"\n",
    "\n",
    "    # Create except block\n",
    "    except Exception as e:\n",
    "        \n",
    "        # Add `\"success\"` key to `response`\n",
    "        response[\"success\"] = False\n",
    "\n",
    "        # Add `\"forecast\"` key to `response`\n",
    "        response[\"forecast\"] = {}\n",
    "\n",
    "        #  Add `\"message\"` key to `response`\n",
    "        response[\"message\"] = str(e)\n",
    "\n",
    "    # Return response\n",
    "    return response\n"
   ]
  },
  {
   "cell_type": "markdown",
   "id": "4da29d15-a6db-42a5-b369-5d5399e96a8a",
   "metadata": {},
   "source": [
    "Go to the command line, navigate to the directory for this project, and start your app server by entering the following command.\n",
    "\n",
    "```bash\n",
    "uvicorn main_module:app --reload --workers 1 --host localhost --port 8008\n",
    "```"
   ]
  },
  {
   "cell_type": "code",
   "execution_count": 36,
   "id": "155b6890-4706-447d-b636-a9c207a0788a",
   "metadata": {},
   "outputs": [
    {
     "name": "stdout",
     "output_type": "stream",
     "text": [
      "response code:200\n"
     ]
    },
    {
     "data": {
      "text/plain": [
       "{'message': 'Hello World, I am live!'}"
      ]
     },
     "execution_count": 36,
     "metadata": {},
     "output_type": "execute_result"
    }
   ],
   "source": [
    "url = \"http://localhost:8008/hello\"\n",
    "response = requests.get(url=url)\n",
    "\n",
    "print(f\"response code:{response.status_code}\")\n",
    "response.json()"
   ]
  },
  {
   "cell_type": "code",
   "execution_count": 40,
   "id": "c92c858b-647d-45cf-bdd9-c55c06ddb797",
   "metadata": {},
   "outputs": [
    {
     "name": "stdout",
     "output_type": "stream",
     "text": [
      "ticker='US2000' use_new_data=True n_observations=2000 p=1 q=1\n",
      "ticker='US2000' use_new_data=True n_observations=2000 p=1 q=1 success=True message=\"model is ready to rock 'n' roll!!!\"\n"
     ]
    }
   ],
   "source": [
    "from main_module import FitIn, FitOut\n",
    "\n",
    "# Instantiate `FitIn`. \n",
    "fi = FitIn(ticker=\"US2000\",\n",
    "           use_new_data=True,\n",
    "           n_observations=2_000,\n",
    "           p=1,\n",
    "           q=1\n",
    ")\n",
    "print(fi)\n",
    "\n",
    "# Instantiate `FitOut`. \n",
    "fo = FitOut(ticker=\"US2000\",\n",
    "           use_new_data=True,\n",
    "           n_observations=2_000,\n",
    "           p=1,\n",
    "           q=1,\n",
    "            success=True,\n",
    "            message=\"model is ready to rock 'n' roll!!!\"\n",
    ")\n",
    "print(fo)"
   ]
  },
  {
   "cell_type": "code",
   "execution_count": 43,
   "id": "71febb64-24f1-4959-8006-2b1fa794ed65",
   "metadata": {},
   "outputs": [
    {
     "data": {
      "text/plain": [
       "<model.GarchModel at 0x1dc759eb610>"
      ]
     },
     "execution_count": 43,
     "metadata": {},
     "output_type": "execute_result"
    }
   ],
   "source": [
    "from main_module import build_model\n",
    "\n",
    "# Instantiate `GarchModel` with function\n",
    "model_shop = build_model(ticker=\"EURUSD\", use_new_data=False)\n",
    "\n",
    "# Is `SQLRepository` attached to `model_shop`?\n",
    "assert isinstance(model_shop.repo, SQLiteRepo)\n",
    "\n",
    "# Is SQLite database attached to `SQLRepository`\n",
    "assert isinstance(model_shop.repo.connection, sqlite3.Connection)\n",
    "\n",
    "# Is `ticker` attribute correct?\n",
    "assert model_shop.ticker == \"EURUSD\"\n",
    "\n",
    "# Is `use_new_data` attribute correct?\n",
    "assert not model_shop.use_new_data\n",
    "\n",
    "model_shop"
   ]
  },
  {
   "cell_type": "code",
   "execution_count": 46,
   "id": "96ae140c-4587-4226-9307-4c12188cee68",
   "metadata": {},
   "outputs": [
    {
     "name": "stdout",
     "output_type": "stream",
     "text": [
      "response code: 200\n"
     ]
    },
    {
     "data": {
      "text/plain": [
       "{'ticker': 'XAUUSD',\n",
       " 'use_new_data': True,\n",
       " 'n_observations': 2000,\n",
       " 'p': 1,\n",
       " 'q': 1,\n",
       " 'success': True,\n",
       " 'message': \"Trained and saved 'models\\\\XAUUSD_2023-02-25T00.07.48.627949.pkl'. Metrics: AIC 4731.956267959443, BIC 4754.359877797611.\"}"
      ]
     },
     "execution_count": 46,
     "metadata": {},
     "output_type": "execute_result"
    }
   ],
   "source": [
    "# URL of `/fit` path\n",
    "url = \"http://localhost:8008/fit\"\n",
    "\n",
    "# Data to send to path\n",
    "json = {\n",
    "    \"ticker\": \"XAUUSD\",\n",
    "    \"use_new_data\": True,\n",
    "    \"n_observations\": 2_000,\n",
    "    \"p\": 1,\n",
    "    \"q\": 1\n",
    "}\n",
    "# Response of post request\n",
    "response = requests.post(url=url, json=json)\n",
    "# Inspect response\n",
    "print(\"response code:\", response.status_code)\n",
    "response.json()"
   ]
  },
  {
   "cell_type": "code",
   "execution_count": 47,
   "id": "71d91372-3b98-4e6b-b574-741304d605f0",
   "metadata": {},
   "outputs": [
    {
     "name": "stdout",
     "output_type": "stream",
     "text": [
      "response code: 200\n"
     ]
    },
    {
     "data": {
      "text/plain": [
       "{'ticker': 'BTC',\n",
       " 'use_new_data': False,\n",
       " 'n_observations': 2000,\n",
       " 'p': 1,\n",
       " 'q': 1,\n",
       " 'success': False,\n",
       " 'message': \"Execution failed on sql 'SELECT * FROM 'BTC' LIMIT 2001': no such table: BTC\"}"
      ]
     },
     "execution_count": 47,
     "metadata": {},
     "output_type": "execute_result"
    }
   ],
   "source": [
    "url = \"http://localhost:8008/fit\"\n",
    "\n",
    "# Data to send to path\n",
    "json = {\n",
    "    \"ticker\": \"BTC\",\n",
    "    \"use_new_data\": False,\n",
    "    \"n_observations\": 2_000,\n",
    "    \"p\": 1,\n",
    "    \"q\": 1\n",
    "}\n",
    "# Response of post request\n",
    "response = requests.post(url=url, json=json)\n",
    "# Inspect response\n",
    "print(\"response code:\", response.status_code)\n",
    "response.json()"
   ]
  },
  {
   "cell_type": "code",
   "execution_count": 48,
   "id": "0b2d96d6-1593-4d77-9bf4-0963db109198",
   "metadata": {},
   "outputs": [
    {
     "name": "stdout",
     "output_type": "stream",
     "text": [
      "response code: 200\n"
     ]
    },
    {
     "data": {
      "text/plain": [
       "{'ticker': 'BTC',\n",
       " 'use_new_data': True,\n",
       " 'n_observations': 2000,\n",
       " 'p': 1,\n",
       " 'q': 1,\n",
       " 'success': False,\n",
       " 'message': \"Invalid Ticker name. HantecMarkets-MT5 does not contain 'BTC'.\"}"
      ]
     },
     "execution_count": 48,
     "metadata": {},
     "output_type": "execute_result"
    }
   ],
   "source": [
    "url = \"http://localhost:8008/fit\"\n",
    "\n",
    "# Data to send to path\n",
    "json = {\n",
    "    \"ticker\": \"BTC\",\n",
    "    \"use_new_data\": True,\n",
    "    \"n_observations\": 2_000,\n",
    "    \"p\": 1,\n",
    "    \"q\": 1\n",
    "}\n",
    "# Response of post request\n",
    "response = requests.post(url=url, json=json)\n",
    "# Inspect response\n",
    "print(\"response code:\", response.status_code)\n",
    "response.json()"
   ]
  },
  {
   "cell_type": "code",
   "execution_count": 49,
   "id": "262c0244-1cea-47ee-b0c5-e0935f429ff4",
   "metadata": {},
   "outputs": [
    {
     "name": "stdout",
     "output_type": "stream",
     "text": [
      "response code: 200\n"
     ]
    },
    {
     "data": {
      "text/plain": [
       "{'ticker': 'EURGBP',\n",
       " 'use_new_data': True,\n",
       " 'n_observations': 2000,\n",
       " 'p': 1,\n",
       " 'q': 1,\n",
       " 'success': True,\n",
       " 'message': \"Trained and saved 'models\\\\EURGBP_2023-02-25T00.10.09.612850.pkl'. Metrics: AIC 2387.29435602817, BIC 2409.6979658663386.\"}"
      ]
     },
     "execution_count": 49,
     "metadata": {},
     "output_type": "execute_result"
    }
   ],
   "source": [
    "url = \"http://localhost:8008/fit\"\n",
    "\n",
    "# Data to send to path\n",
    "json = {\n",
    "    \"ticker\": \"EURGBP\",\n",
    "    \"use_new_data\": True,\n",
    "    \"n_observations\": 2_000,\n",
    "    \"p\": 1,\n",
    "    \"q\": 1\n",
    "}\n",
    "# Response of post request\n",
    "response = requests.post(url=url, json=json)\n",
    "# Inspect response\n",
    "print(\"response code:\", response.status_code)\n",
    "response.json()"
   ]
  },
  {
   "cell_type": "code",
   "execution_count": 52,
   "id": "e7da4b13-5559-4634-ab9a-96b1b80cb5c5",
   "metadata": {},
   "outputs": [
    {
     "name": "stdout",
     "output_type": "stream",
     "text": [
      "ticker='USDJPY' n_days=5\n",
      "ticker='USDJPY' n_days=5 success=True forecast={} message='success'\n"
     ]
    }
   ],
   "source": [
    "from main_module import PredictIn, PredictOut\n",
    "\n",
    "pi = PredictIn(ticker=\"USDJPY\", n_days=5)\n",
    "print(pi)\n",
    "\n",
    "po = PredictOut(\n",
    "    ticker=\"USDJPY\", n_days=5, success=True, forecast={}, message=\"success\"\n",
    ")\n",
    "print(po)"
   ]
  },
  {
   "cell_type": "code",
   "execution_count": 54,
   "id": "6cdfcc31-8a5a-406f-bf44-c64688a5ed14",
   "metadata": {},
   "outputs": [
    {
     "data": {
      "text/plain": [
       "{'ticker': 'XAUUSD',\n",
       " 'n_days': 5,\n",
       " 'success': True,\n",
       " 'forecast': {'2023-02-27T00:00:00': 0.837385320823796,\n",
       "  '2023-02-28T00:00:00': 0.8372922777102991,\n",
       "  '2023-03-01T00:00:00': 0.8371997557077301,\n",
       "  '2023-03-02T00:00:00': 0.8371077519534615,\n",
       "  '2023-03-03T00:00:00': 0.8370162635999788},\n",
       " 'message': ''}"
      ]
     },
     "execution_count": 54,
     "metadata": {},
     "output_type": "execute_result"
    }
   ],
   "source": [
    "# URL of `/predict` path\n",
    "url = \"http://localhost:8008/predict\"\n",
    "# Data to send to path\n",
    "json = {\"ticker\": \"XAUUSD\", \"n_days\": 5}\n",
    "# Response of post request\n",
    "response = requests.post(url=url, json=json)\n",
    "# Response JSON to be submitted to grader\n",
    "submission = response.json()\n",
    "# Inspect JSON\n",
    "submission"
   ]
  },
  {
   "cell_type": "code",
   "execution_count": 56,
   "id": "1bb5e2d2-892a-4d77-bb39-177cb50598a7",
   "metadata": {},
   "outputs": [
    {
     "data": {
      "text/plain": [
       "{'ticker': 'US30',\n",
       " 'n_days': 5,\n",
       " 'success': True,\n",
       " 'forecast': {'2023-02-27T00:00:00': 0.9889565243747797,\n",
       "  '2023-02-28T00:00:00': 1.0036816388365841,\n",
       "  '2023-03-01T00:00:00': 1.017646871909975,\n",
       "  '2023-03-02T00:00:00': 1.0309036012115818,\n",
       "  '2023-03-03T00:00:00': 1.0434983097042294},\n",
       " 'message': ''}"
      ]
     },
     "execution_count": 56,
     "metadata": {},
     "output_type": "execute_result"
    }
   ],
   "source": [
    "# URL of `/predict` path\n",
    "url = \"http://localhost:8008/predict\"\n",
    "# Data to send to path\n",
    "json = {\"ticker\": \"US30\", \"n_days\": 5}\n",
    "# Response of post request\n",
    "response = requests.post(url=url, json=json)\n",
    "# Response JSON to be submitted to grader\n",
    "submission = response.json()\n",
    "# Inspect JSON\n",
    "submission"
   ]
  },
  {
   "cell_type": "code",
   "execution_count": null,
   "id": "cb17eff5-8513-4882-8051-447aacc32d56",
   "metadata": {},
   "outputs": [],
   "source": []
  }
 ],
 "metadata": {
  "kernelspec": {
   "display_name": "Python 3 (ipykernel)",
   "language": "python",
   "name": "python3"
  },
  "language_info": {
   "codemirror_mode": {
    "name": "ipython",
    "version": 3
   },
   "file_extension": ".py",
   "mimetype": "text/x-python",
   "name": "python",
   "nbconvert_exporter": "python",
   "pygments_lexer": "ipython3",
   "version": "3.9.12"
  }
 },
 "nbformat": 4,
 "nbformat_minor": 5
}
