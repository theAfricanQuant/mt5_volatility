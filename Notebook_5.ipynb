{
 "cells": [
  {
   "cell_type": "code",
   "execution_count": null,
   "id": "3831c6cf-fe2c-481a-90c7-9e51b2a7305c",
   "metadata": {},
   "outputs": [],
   "source": [
    "%load_ext autoreload\n",
    "%autoreload 2\n",
    "\n",
    "import os\n",
    "import sqlite3\n",
    "from glob import glob\n",
    "\n",
    "import joblib\n",
    "import numpy as np\n",
    "import pandas as pd\n",
    "import requests\n",
    "import matplotlib.pyplot as plt\n",
    "from arch.univariate.base import ARCHModelResult\n",
    "from arch import arch_model\n",
    "from config import settings\n",
    "from retrieve_data import SQLiteRepo, MT5_Data\n",
    "from statsmodels.graphics.tsaplots import plot_acf, plot_pacf"
   ]
  },
  {
   "cell_type": "code",
   "execution_count": 4,
   "id": "11938d24-a4d3-40f5-8c21-4ab59b874b4c",
   "metadata": {},
   "outputs": [
    {
     "name": "stdout",
     "output_type": "stream",
     "text": [
      "repo type: <class 'retrieve_data.SQLiteRepo'>\n",
      "repo.connection type:<class 'sqlite3.Connection'>\n"
     ]
    }
   ],
   "source": [
    "connection = sqlite3.connect(settings.db_name, check_same_thread=False)\n",
    "repo = SQLiteRepo(connection=connection)\n",
    "\n",
    "print(f\"repo type: {type(repo)}\")\n",
    "print(f\"repo.connection type:{type(repo.connection)}\")"
   ]
  },
  {
   "cell_type": "code",
   "execution_count": 1,
   "id": "153a7f7f-99a5-41c1-9698-398635f3944a",
   "metadata": {},
   "outputs": [
    {
     "ename": "NameError",
     "evalue": "name 'repo' is not defined",
     "output_type": "error",
     "traceback": [
      "\u001b[1;31m---------------------------------------------------------------------------\u001b[0m",
      "\u001b[1;31mNameError\u001b[0m                                 Traceback (most recent call last)",
      "Input \u001b[1;32mIn [1]\u001b[0m, in \u001b[0;36m<cell line: 5>\u001b[1;34m()\u001b[0m\n\u001b[0;32m      3\u001b[0m ticker \u001b[38;5;241m=\u001b[39m \u001b[38;5;124m\"\u001b[39m\u001b[38;5;124mGBPUSD\u001b[39m\u001b[38;5;124m\"\u001b[39m\n\u001b[0;32m      4\u001b[0m \u001b[38;5;66;03m# Instantiate a `GarchModel`\u001b[39;00m\n\u001b[1;32m----> 5\u001b[0m df_ticker \u001b[38;5;241m=\u001b[39m GarchModel(ticker\u001b[38;5;241m=\u001b[39mticker, repo\u001b[38;5;241m=\u001b[39m\u001b[43mrepo\u001b[49m, use_new_data\u001b[38;5;241m=\u001b[39m\u001b[38;5;28;01mFalse\u001b[39;00m)\n\u001b[0;32m      7\u001b[0m \u001b[38;5;66;03m# Does `gm_ambuja` have the correct attributes?\u001b[39;00m\n\u001b[0;32m      8\u001b[0m \u001b[38;5;28;01massert\u001b[39;00m df_ticker\u001b[38;5;241m.\u001b[39mticker \u001b[38;5;241m==\u001b[39m \u001b[38;5;124m\"\u001b[39m\u001b[38;5;124mGBPUSD\u001b[39m\u001b[38;5;124m\"\u001b[39m\n",
      "\u001b[1;31mNameError\u001b[0m: name 'repo' is not defined"
     ]
    }
   ],
   "source": [
    "from model import GarchModel\n",
    "\n",
    "ticker = \"GBPUSD\"\n",
    "# Instantiate a `GarchModel`\n",
    "df_ticker = GarchModel(ticker=ticker, repo=repo, use_new_data=False)\n",
    "\n",
    "# Does `gm_ambuja` have the correct attributes?\n",
    "assert df_ticker.ticker == \"GBPUSD\"\n",
    "assert df_ticker.repo == repo\n",
    "assert not df_ticker.use_new_data\n",
    "assert df_ticker.model_directory == settings.model_directory"
   ]
  },
  {
   "cell_type": "code",
   "execution_count": 6,
   "id": "264de155-9f7d-446e-801e-5fe5a141decd",
   "metadata": {},
   "outputs": [
    {
     "data": {
      "text/plain": [
       "['load',\n",
       " 'model_directory',\n",
       " 'predict_volatility',\n",
       " 'repo',\n",
       " 'ticker',\n",
       " 'use_new_data']"
      ]
     },
     "execution_count": 6,
     "metadata": {},
     "output_type": "execute_result"
    }
   ],
   "source": [
    "dir(df_ticker)[-6:]"
   ]
  },
  {
   "cell_type": "code",
   "execution_count": 7,
   "id": "dd65811a-a36d-45e4-be79-a8a76806b521",
   "metadata": {},
   "outputs": [
    {
     "data": {
      "text/plain": [
       "'GBPUSD'"
      ]
     },
     "execution_count": 7,
     "metadata": {},
     "output_type": "execute_result"
    }
   ],
   "source": [
    "df_ticker.ticker"
   ]
  },
  {
   "cell_type": "code",
   "execution_count": 8,
   "id": "e31d35a2-f5a1-45b8-a883-312b2b9767ce",
   "metadata": {},
   "outputs": [
    {
     "data": {
      "text/plain": [
       "False"
      ]
     },
     "execution_count": 8,
     "metadata": {},
     "output_type": "execute_result"
    }
   ],
   "source": [
    "df_ticker.use_new_data"
   ]
  },
  {
   "cell_type": "code",
   "execution_count": 12,
   "id": "bc2572ab-8884-4cb9-84de-b935f8e0c49d",
   "metadata": {},
   "outputs": [
    {
     "name": "stdout",
     "output_type": "stream",
     "text": [
      "df_ticker type: <class 'pandas.core.frame.DataFrame'>\n"
     ]
    },
    {
     "data": {
      "text/html": [
       "<div>\n",
       "<style scoped>\n",
       "    .dataframe tbody tr th:only-of-type {\n",
       "        vertical-align: middle;\n",
       "    }\n",
       "\n",
       "    .dataframe tbody tr th {\n",
       "        vertical-align: top;\n",
       "    }\n",
       "\n",
       "    .dataframe thead th {\n",
       "        text-align: right;\n",
       "    }\n",
       "</style>\n",
       "<table border=\"1\" class=\"dataframe\">\n",
       "  <thead>\n",
       "    <tr style=\"text-align: right;\">\n",
       "      <th></th>\n",
       "      <th>open</th>\n",
       "      <th>high</th>\n",
       "      <th>low</th>\n",
       "      <th>close</th>\n",
       "      <th>tick_volume</th>\n",
       "    </tr>\n",
       "    <tr>\n",
       "      <th>date</th>\n",
       "      <th></th>\n",
       "      <th></th>\n",
       "      <th></th>\n",
       "      <th></th>\n",
       "      <th></th>\n",
       "    </tr>\n",
       "  </thead>\n",
       "  <tbody>\n",
       "    <tr>\n",
       "      <th>1993-04-27</th>\n",
       "      <td>0.7201</td>\n",
       "      <td>0.7265</td>\n",
       "      <td>0.7130</td>\n",
       "      <td>0.7150</td>\n",
       "      <td>2191</td>\n",
       "    </tr>\n",
       "    <tr>\n",
       "      <th>1993-04-28</th>\n",
       "      <td>0.7144</td>\n",
       "      <td>0.7185</td>\n",
       "      <td>0.7103</td>\n",
       "      <td>0.7135</td>\n",
       "      <td>1551</td>\n",
       "    </tr>\n",
       "    <tr>\n",
       "      <th>1993-04-29</th>\n",
       "      <td>0.7143</td>\n",
       "      <td>0.7160</td>\n",
       "      <td>0.7095</td>\n",
       "      <td>0.7103</td>\n",
       "      <td>901</td>\n",
       "    </tr>\n",
       "    <tr>\n",
       "      <th>1993-04-30</th>\n",
       "      <td>0.7106</td>\n",
       "      <td>0.7126</td>\n",
       "      <td>0.7035</td>\n",
       "      <td>0.7075</td>\n",
       "      <td>1511</td>\n",
       "    </tr>\n",
       "    <tr>\n",
       "      <th>1993-05-03</th>\n",
       "      <td>0.7065</td>\n",
       "      <td>0.7078</td>\n",
       "      <td>0.7060</td>\n",
       "      <td>0.7078</td>\n",
       "      <td>231</td>\n",
       "    </tr>\n",
       "  </tbody>\n",
       "</table>\n",
       "</div>"
      ],
      "text/plain": [
       "              open    high     low   close  tick_volume\n",
       "date                                                   \n",
       "1993-04-27  0.7201  0.7265  0.7130  0.7150         2191\n",
       "1993-04-28  0.7144  0.7185  0.7103  0.7135         1551\n",
       "1993-04-29  0.7143  0.7160  0.7095  0.7103          901\n",
       "1993-04-30  0.7106  0.7126  0.7035  0.7075         1511\n",
       "1993-05-03  0.7065  0.7078  0.7060  0.7078          231"
      ]
     },
     "execution_count": 12,
     "metadata": {},
     "output_type": "execute_result"
    }
   ],
   "source": [
    "ticker = \"AUDUSD\"\n",
    "av = MT5_Data()\n",
    "df_ticker = av.ticker_data(ticker=ticker)\n",
    "\n",
    "print(f\"{ticker} type: {type(df_ticker)}\")\n",
    "df_ticker.head()"
   ]
  },
  {
   "cell_type": "code",
   "execution_count": 15,
   "id": "64c90e40-912f-470b-b9c7-d832a46f91ca",
   "metadata": {},
   "outputs": [
    {
     "data": {
      "text/html": [
       "<div>\n",
       "<style scoped>\n",
       "    .dataframe tbody tr th:only-of-type {\n",
       "        vertical-align: middle;\n",
       "    }\n",
       "\n",
       "    .dataframe tbody tr th {\n",
       "        vertical-align: top;\n",
       "    }\n",
       "\n",
       "    .dataframe thead th {\n",
       "        text-align: right;\n",
       "    }\n",
       "</style>\n",
       "<table border=\"1\" class=\"dataframe\">\n",
       "  <thead>\n",
       "    <tr style=\"text-align: right;\">\n",
       "      <th></th>\n",
       "      <th>open</th>\n",
       "      <th>high</th>\n",
       "      <th>low</th>\n",
       "      <th>close</th>\n",
       "      <th>tick_volume</th>\n",
       "    </tr>\n",
       "  </thead>\n",
       "  <tbody>\n",
       "    <tr>\n",
       "      <th>2021-12-06</th>\n",
       "      <td>0.70005</td>\n",
       "      <td>0.70544</td>\n",
       "      <td>0.69975</td>\n",
       "      <td>0.70499</td>\n",
       "      <td>114178.0</td>\n",
       "    </tr>\n",
       "  </tbody>\n",
       "</table>\n",
       "</div>"
      ],
      "text/plain": [
       "               open     high      low    close  tick_volume\n",
       "2021-12-06  0.70005  0.70544  0.69975  0.70499     114178.0"
      ]
     },
     "execution_count": 15,
     "metadata": {},
     "output_type": "execute_result"
    }
   ],
   "source": [
    "sub_1 = df_ticker.loc[\"2021-12-06\"].to_frame().T\n",
    "sub_1"
   ]
  },
  {
   "cell_type": "code",
   "execution_count": 16,
   "id": "ed406175-896c-4074-b36a-f4a966d596d6",
   "metadata": {},
   "outputs": [
    {
     "data": {
      "text/plain": [
       "'G:\\\\My Drive\\\\SisengAI\\\\AlgorithmicTrading\\\\code_rebuilding\\\\vectorizedBactesting\\\\Project_8\\\\cdf.db'"
      ]
     },
     "execution_count": 16,
     "metadata": {},
     "output_type": "execute_result"
    }
   ],
   "source": [
    "sub_2 = connection.cursor().execute(\"PRAGMA database_list;\").fetchall()[0][-1]\n",
    "sub_2"
   ]
  },
  {
   "cell_type": "code",
   "execution_count": 17,
   "id": "ecff9d6f-7dbb-4dce-8d20-5d4fa9498d4a",
   "metadata": {},
   "outputs": [
    {
     "name": "stdout",
     "output_type": "stream",
     "text": [
      "{'transaction_successful': True, 'records_inserted': 8746}\n"
     ]
    }
   ],
   "source": [
    "repo = SQLiteRepo(connection=connection)\n",
    "response = repo.insert_table(table_name=ticker, records=df_ticker, if_exists=\"replace\")\n",
    "print(response)"
   ]
  },
  {
   "cell_type": "code",
   "execution_count": 20,
   "id": "21c38e2e-6434-4780-be7f-2ed2730b4962",
   "metadata": {},
   "outputs": [
    {
     "data": {
      "text/html": [
       "<div>\n",
       "<style scoped>\n",
       "    .dataframe tbody tr th:only-of-type {\n",
       "        vertical-align: middle;\n",
       "    }\n",
       "\n",
       "    .dataframe tbody tr th {\n",
       "        vertical-align: top;\n",
       "    }\n",
       "\n",
       "    .dataframe thead th {\n",
       "        text-align: right;\n",
       "    }\n",
       "</style>\n",
       "<table border=\"1\" class=\"dataframe\">\n",
       "  <thead>\n",
       "    <tr style=\"text-align: right;\">\n",
       "      <th></th>\n",
       "      <th>date</th>\n",
       "      <th>open</th>\n",
       "      <th>high</th>\n",
       "      <th>low</th>\n",
       "      <th>close</th>\n",
       "      <th>tick_volume</th>\n",
       "    </tr>\n",
       "  </thead>\n",
       "  <tbody>\n",
       "    <tr>\n",
       "      <th>0</th>\n",
       "      <td>2023-02-24 00:00:00</td>\n",
       "      <td>0.68079</td>\n",
       "      <td>0.68236</td>\n",
       "      <td>0.67183</td>\n",
       "      <td>0.67239</td>\n",
       "      <td>71430</td>\n",
       "    </tr>\n",
       "    <tr>\n",
       "      <th>1</th>\n",
       "      <td>2023-02-23 00:00:00</td>\n",
       "      <td>0.68024</td>\n",
       "      <td>0.68414</td>\n",
       "      <td>0.67812</td>\n",
       "      <td>0.68071</td>\n",
       "      <td>61012</td>\n",
       "    </tr>\n",
       "    <tr>\n",
       "      <th>2</th>\n",
       "      <td>2023-02-22 00:00:00</td>\n",
       "      <td>0.68522</td>\n",
       "      <td>0.68646</td>\n",
       "      <td>0.67945</td>\n",
       "      <td>0.68019</td>\n",
       "      <td>73251</td>\n",
       "    </tr>\n",
       "    <tr>\n",
       "      <th>3</th>\n",
       "      <td>2023-02-21 00:00:00</td>\n",
       "      <td>0.69039</td>\n",
       "      <td>0.69196</td>\n",
       "      <td>0.68471</td>\n",
       "      <td>0.68519</td>\n",
       "      <td>75154</td>\n",
       "    </tr>\n",
       "    <tr>\n",
       "      <th>4</th>\n",
       "      <td>2023-02-20 00:00:00</td>\n",
       "      <td>0.68622</td>\n",
       "      <td>0.69203</td>\n",
       "      <td>0.68613</td>\n",
       "      <td>0.69038</td>\n",
       "      <td>39484</td>\n",
       "    </tr>\n",
       "  </tbody>\n",
       "</table>\n",
       "</div>"
      ],
      "text/plain": [
       "                  date     open     high      low    close  tick_volume\n",
       "0  2023-02-24 00:00:00  0.68079  0.68236  0.67183  0.67239        71430\n",
       "1  2023-02-23 00:00:00  0.68024  0.68414  0.67812  0.68071        61012\n",
       "2  2023-02-22 00:00:00  0.68522  0.68646  0.67945  0.68019        73251\n",
       "3  2023-02-21 00:00:00  0.69039  0.69196  0.68471  0.68519        75154\n",
       "4  2023-02-20 00:00:00  0.68622  0.69203  0.68613  0.69038        39484"
      ]
     },
     "execution_count": 20,
     "metadata": {},
     "output_type": "execute_result"
    }
   ],
   "source": [
    "# Get first five rows of `AUDUSD` table\n",
    "sub_3 = pd.read_sql(sql=\"SELECT * FROM AUDUSD LIMIT 5\", con=connection)\n",
    "sub_3"
   ]
  },
  {
   "cell_type": "code",
   "execution_count": 23,
   "id": "557b613f-c891-4e54-8686-7675f5c85fbe",
   "metadata": {},
   "outputs": [
    {
     "name": "stdout",
     "output_type": "stream",
     "text": [
      "y_mtnoy type: <class 'pandas.core.series.Series'>\n",
      "y_mtnoy shape: (2500,)\n"
     ]
    },
    {
     "data": {
      "text/plain": [
       "date\n",
       "2014-12-04   -0.228471\n",
       "2014-12-05   -0.702487\n",
       "2014-12-06   -0.285865\n",
       "2014-12-08   -0.139729\n",
       "2014-12-09    0.082025\n",
       "Name: returns, dtype: float64"
      ]
     },
     "execution_count": 23,
     "metadata": {},
     "output_type": "execute_result"
    }
   ],
   "source": [
    "#ticker = \"GBPAUD\"\n",
    "model = GarchModel(repo=repo, ticker=ticker, use_new_data=False)\n",
    "model.calc_returns(n_observations=2_500)\n",
    "\n",
    "y_ticker = model.data\n",
    "\n",
    "print(f\"y_mtnoy type: {type(y_ticker)}\")\n",
    "print(f\"y_mtnoy shape: {y_ticker.shape}\")\n",
    "y_ticker.head()"
   ]
  },
  {
   "cell_type": "code",
   "execution_count": 24,
   "id": "cba9c215-7e6a-445f-bb41-05111a04cb85",
   "metadata": {},
   "outputs": [
    {
     "data": {
      "text/plain": [
       "-0.40525975425736993"
      ]
     },
     "execution_count": 24,
     "metadata": {},
     "output_type": "execute_result"
    }
   ],
   "source": [
    "# Get data for 8 Feb 2023\n",
    "sub_4 = float(y_ticker[\"2023-02-08\"])\n",
    "sub_4"
   ]
  },
  {
   "cell_type": "code",
   "execution_count": 25,
   "id": "b6dfd234-8063-44d9-bfdc-4220490fb654",
   "metadata": {},
   "outputs": [
    {
     "name": "stdout",
     "output_type": "stream",
     "text": [
      "AUDUSD_daily_volatility type: <class 'float'>\n",
      "AUDUSD Daily Volatility: 0.6020358381801787\n"
     ]
    }
   ],
   "source": [
    "y_ticker_daily_volatility = y_ticker.std()\n",
    "\n",
    "print(f\"{ticker}_daily_volatility type: {type(y_ticker_daily_volatility)}\") \n",
    "print(f\"{ticker} Daily Volatility: {y_ticker_daily_volatility}\")"
   ]
  },
  {
   "cell_type": "code",
   "execution_count": 28,
   "id": "816a2533-fdca-440a-8c82-9938bd730b5d",
   "metadata": {},
   "outputs": [
    {
     "name": "stdout",
     "output_type": "stream",
     "text": [
      "AUDUSD_annual_volatility type: <class 'numpy.float64'>\n",
      "AUDUSD Annual Volatility: 9.557022649038466\n"
     ]
    }
   ],
   "source": [
    "y_ticker_annual_volatility = y_ticker_daily_volatility * np.sqrt(252)\n",
    "\n",
    "print(f\"{ticker}_annual_volatility type: {type(y_ticker_annual_volatility)}\")\n",
    "print(f\"{ticker} Annual Volatility: {y_ticker_annual_volatility}\")"
   ]
  },
  {
   "cell_type": "code",
   "execution_count": 33,
   "id": "13bc7304-4e8a-4115-b750-10f7d1815e98",
   "metadata": {},
   "outputs": [
    {
     "data": {
      "image/png": "[encoded data removed]",
      "text/plain": [
       "<Figure size 1080x432 with 1 Axes>"
      ]
     },
     "metadata": {
      "needs_background": "light"
     },
     "output_type": "display_data"
    }
   ],
   "source": [
    "# Create `fig` and `ax`\n",
    "fig, ax = plt.subplots(figsize=(15, 6))\n",
    "\n",
    "# Create ACF of squared returns\n",
    "plot_acf(y_ticker**2, ax=ax)\n",
    "\n",
    "# Add axis labels\n",
    "plt.xlabel(\"Lag [days]\")  \n",
    "plt.ylabel(\"Correlation Coefficient\")\n",
    "\n",
    "\n",
    "# Add title\n",
    "_=plt.title(f\"ACF of {ticker} Squared Returns\")"
   ]
  },
  {
   "cell_type": "code",
   "execution_count": 34,
   "id": "ac38cdaa-d433-46b0-b68c-15401f221260",
   "metadata": {},
   "outputs": [
    {
     "name": "stderr",
     "output_type": "stream",
     "text": [
      "C:\\Users\\ricky\\miniconda3\\lib\\site-packages\\statsmodels\\graphics\\tsaplots.py:348: FutureWarning: The default method 'yw' can produce PACF values outside of the [-1,1] interval. After 0.13, the default will change tounadjusted Yule-Walker ('ywm'). You can use this method now by setting method='ywm'.\n",
      "  warnings.warn(\n"
     ]
    },
    {
     "data": {
      "image/png": "[encoded data removed]",
      "text/plain": [
       "<Figure size 1080x432 with 1 Axes>"
      ]
     },
     "metadata": {
      "needs_background": "light"
     },
     "output_type": "display_data"
    }
   ],
   "source": [
    "# Create `fig` and `ax`\n",
    "fig, ax = plt.subplots(figsize=(15, 6))\n",
    "\n",
    "# Create ACF of squared returns\n",
    "plot_pacf(y_ticker**2, ax=ax)\n",
    "\n",
    "# Add axis labels\n",
    "plt.xlabel(\"Lag [days]\")  \n",
    "plt.ylabel(\"Correlation Coefficient\")\n",
    "\n",
    "\n",
    "# Add title\n",
    "_=plt.title(f\"ACF of {ticker} Squared Returns\")"
   ]
  },
  {
   "cell_type": "code",
   "execution_count": 38,
   "id": "426ead87-45d9-4144-ab2c-55e44f66d0d1",
   "metadata": {},
   "outputs": [
    {
     "name": "stdout",
     "output_type": "stream",
     "text": [
      "AUDUSD_train type: <class 'pandas.core.series.Series'>\n",
      "AUDUSD_train shape: (2000,)\n"
     ]
    },
    {
     "data": {
      "text/plain": [
       "date\n",
       "2014-12-04   -0.228471\n",
       "2014-12-05   -0.702487\n",
       "2014-12-06   -0.285865\n",
       "2014-12-08   -0.139729\n",
       "2014-12-09    0.082025\n",
       "Name: returns, dtype: float64"
      ]
     },
     "execution_count": 38,
     "metadata": {},
     "output_type": "execute_result"
    }
   ],
   "source": [
    "cutoff_test = int(len(y_ticker) * 0.8)\n",
    "y_ticker_train =  (y_ticker.iloc[:cutoff_test]\n",
    "                  .rename(\"returns\")\n",
    "                 )\n",
    "\n",
    "print(f\"{ticker}_train type: {type(y_ticker_train)}\")\n",
    "print(f\"{ticker}_train shape: {y_ticker_train.shape}\")\n",
    "y_ticker_train.head()"
   ]
  },
  {
   "cell_type": "code",
   "execution_count": 41,
   "id": "b9e0e260-b239-47db-904c-e74e2fb01e5d",
   "metadata": {},
   "outputs": [
    {
     "name": "stdout",
     "output_type": "stream",
     "text": [
      "model type: <class 'arch.univariate.base.ARCHModelResult'>\n"
     ]
    },
    {
     "data": {
      "text/html": [
       "<table class=\"simpletable\">\n",
       "<caption>Constant Mean - GARCH Model Results</caption>\n",
       "<tr>\n",
       "  <th>Dep. Variable:</th>       <td>returns</td>      <th>  R-squared:         </th>  <td>   0.000</td> \n",
       "</tr>\n",
       "<tr>\n",
       "  <th>Mean Model:</th>       <td>Constant Mean</td>   <th>  Adj. R-squared:    </th>  <td>   0.000</td> \n",
       "</tr>\n",
       "<tr>\n",
       "  <th>Vol Model:</th>            <td>GARCH</td>       <th>  Log-Likelihood:    </th> <td>  -2131.10</td>\n",
       "</tr>\n",
       "<tr>\n",
       "  <th>Distribution:</th>        <td>Normal</td>       <th>  AIC:               </th> <td>   4270.20</td>\n",
       "</tr>\n",
       "<tr>\n",
       "  <th>Method:</th>        <td>Maximum Likelihood</td> <th>  BIC:               </th> <td>   4293.50</td>\n",
       "</tr>\n",
       "<tr>\n",
       "  <th></th>                        <td></td>          <th>  No. Observations:  </th>    <td>2500</td>   \n",
       "</tr>\n",
       "<tr>\n",
       "  <th>Date:</th>           <td>Sat, Feb 25 2023</td>  <th>  Df Residuals:      </th>    <td>2499</td>   \n",
       "</tr>\n",
       "<tr>\n",
       "  <th>Time:</th>               <td>09:58:13</td>      <th>  Df Model:          </th>      <td>1</td>    \n",
       "</tr>\n",
       "</table>\n",
       "<table class=\"simpletable\">\n",
       "<caption>Mean Model</caption>\n",
       "<tr>\n",
       "   <td></td>     <th>coef</th>      <th>std err</th>      <th>t</th>       <th>P>|t|</th>      <th>95.0% Conf. Int.</th>   \n",
       "</tr>\n",
       "<tr>\n",
       "  <th>mu</th> <td>-8.1099e-03</td> <td>1.065e-02</td> <td>   -0.762</td> <td>    0.446</td> <td>[-2.897e-02,1.275e-02]</td>\n",
       "</tr>\n",
       "</table>\n",
       "<table class=\"simpletable\">\n",
       "<caption>Volatility Model</caption>\n",
       "<tr>\n",
       "      <td></td>        <th>coef</th>     <th>std err</th>      <th>t</th>       <th>P>|t|</th>      <th>95.0% Conf. Int.</th>   \n",
       "</tr>\n",
       "<tr>\n",
       "  <th>omega</th>    <td>2.2415e-03</td> <td>1.335e-03</td> <td>    1.680</td> <td>9.304e-02</td> <td>[-3.742e-04,4.857e-03]</td>\n",
       "</tr>\n",
       "<tr>\n",
       "  <th>alpha[1]</th> <td>    0.0310</td> <td>8.541e-03</td> <td>    3.630</td> <td>2.834e-04</td>  <td>[1.426e-02,4.774e-02]</td>\n",
       "</tr>\n",
       "<tr>\n",
       "  <th>beta[1]</th>  <td>    0.9633</td> <td>1.060e-02</td> <td>   90.836</td>   <td>0.000</td>      <td>[  0.942,  0.984]</td>  \n",
       "</tr>\n",
       "</table><br/><br/>Covariance estimator: robust"
      ],
      "text/plain": [
       "<class 'statsmodels.iolib.summary.Summary'>\n",
       "\"\"\"\n",
       "                     Constant Mean - GARCH Model Results                      \n",
       "==============================================================================\n",
       "Dep. Variable:                returns   R-squared:                       0.000\n",
       "Mean Model:             Constant Mean   Adj. R-squared:                  0.000\n",
       "Vol Model:                      GARCH   Log-Likelihood:               -2131.10\n",
       "Distribution:                  Normal   AIC:                           4270.20\n",
       "Method:            Maximum Likelihood   BIC:                           4293.50\n",
       "                                        No. Observations:                 2500\n",
       "Date:                Sat, Feb 25 2023   Df Residuals:                     2499\n",
       "Time:                        09:58:13   Df Model:                            1\n",
       "                                  Mean Model                                  \n",
       "==============================================================================\n",
       "                  coef    std err          t      P>|t|       95.0% Conf. Int.\n",
       "------------------------------------------------------------------------------\n",
       "mu         -8.1099e-03  1.065e-02     -0.762      0.446 [-2.897e-02,1.275e-02]\n",
       "                               Volatility Model                              \n",
       "=============================================================================\n",
       "                 coef    std err          t      P>|t|       95.0% Conf. Int.\n",
       "-----------------------------------------------------------------------------\n",
       "omega      2.2415e-03  1.335e-03      1.680  9.304e-02 [-3.742e-04,4.857e-03]\n",
       "alpha[1]       0.0310  8.541e-03      3.630  2.834e-04  [1.426e-02,4.774e-02]\n",
       "beta[1]        0.9633  1.060e-02     90.836      0.000      [  0.942,  0.984]\n",
       "=============================================================================\n",
       "\n",
       "Covariance estimator: robust\n",
       "\"\"\""
      ]
     },
     "execution_count": 41,
     "metadata": {},
     "output_type": "execute_result"
    }
   ],
   "source": [
    "# Build and train model\n",
    "model = arch_model(y_ticker, p=1, q=1, rescale=False).fit(disp=0)\n",
    "\n",
    "print(f\"model type: {type(model)}\")\n",
    "\n",
    "# Show model summary\n",
    "model.summary() "
   ]
  },
  {
   "cell_type": "code",
   "execution_count": 42,
   "id": "d3a958ad-87d9-4eee-a8b8-112aa3fd8e84",
   "metadata": {},
   "outputs": [],
   "source": [
    "ticker = \"EURAUD\"\n",
    "# Import `build_model` function\n",
    "from main_module import build_model\n",
    "\n",
    "# Build model using new `MTNOY` data\n",
    "model = build_model(ticker=ticker, use_new_data=True)\n",
    "\n",
    "# calc returns\n",
    "model.calc_returns(n_observations=2500)\n",
    "\n",
    "# Fit GARCH(1,1) model to data\n",
    "model.fit(p=1, q=1)\n",
    "\n",
    "# Does model have AIC and BIC attributes?\n",
    "assert hasattr(model, \"aic\")\n",
    "assert hasattr(model, \"bic\")"
   ]
  },
  {
   "cell_type": "code",
   "execution_count": 43,
   "id": "4591d82f-9008-42e1-917c-0ad929d2e4da",
   "metadata": {},
   "outputs": [
    {
     "data": {
      "text/plain": [
       "{'has_aic': True, 'has_bic': True}"
      ]
     },
     "execution_count": 43,
     "metadata": {},
     "output_type": "execute_result"
    }
   ],
   "source": [
    "# Put test results into dictionary\n",
    "sub_5 = {\"has_aic\": hasattr(model, \"aic\"), \"has_bic\": hasattr(model, \"bic\")}\n",
    "sub_5"
   ]
  },
  {
   "cell_type": "code",
   "execution_count": 44,
   "id": "b2c1830b-ee20-4baa-b74e-4fbfb2b01fa9",
   "metadata": {},
   "outputs": [
    {
     "data": {
      "text/plain": [
       "{'ticker': 'EURAUD',\n",
       " 'use_new_data': False,\n",
       " 'n_observations': 2500,\n",
       " 'p': 1,\n",
       " 'q': 1,\n",
       " 'success': True,\n",
       " 'message': \"Trained and saved 'models\\\\EURAUD_2023-02-25T10.03.15.341879.pkl'. Metrics: AIC 3628.390721682199, BIC 3651.686905725624.\"}"
      ]
     },
     "execution_count": 44,
     "metadata": {},
     "output_type": "execute_result"
    }
   ],
   "source": [
    "# Import `FitIn` class and `fit_model` function\n",
    "from main_module import FitIn, fit_model\n",
    "\n",
    "# Instantiate `FitIn` object\n",
    "request = FitIn(ticker=ticker, use_new_data=False, n_observations=2500, p=1, q=1)\n",
    "\n",
    "# Build model and fit to data, following parameters in `request`\n",
    "fit_out = fit_model(request=request)\n",
    "\n",
    "# Inspect `fit_out`\n",
    "fit_out"
   ]
  },
  {
   "cell_type": "code",
   "execution_count": 45,
   "id": "e4a3eadc-07ce-485a-98ac-c91cd2c72c8f",
   "metadata": {},
   "outputs": [
    {
     "name": "stdout",
     "output_type": "stream",
     "text": [
      "response type: <class 'requests.models.Response'>\n",
      "response status code: 200\n"
     ]
    }
   ],
   "source": [
    "# URL of `/fit` path\n",
    "url = \"http://localhost:8008/fit\"\n",
    "# Data to send to path\n",
    "json = {\n",
    "    \"ticker\": f\"{ticker}\",\n",
    "    \"use_new_data\": False,\n",
    "    \"n_observations\": 2500,\n",
    "    \"p\": 1,\n",
    "    \"q\": 1,\n",
    "}\n",
    "# Response of post request\n",
    "response = requests.post(url=url, json=json)\n",
    "\n",
    "print(\"response type:\", type(response))\n",
    "print(\"response status code:\", response.status_code)"
   ]
  },
  {
   "cell_type": "code",
   "execution_count": 46,
   "id": "1097daa6-6fe8-4a44-a64c-183f03e5b908",
   "metadata": {},
   "outputs": [
    {
     "data": {
      "text/plain": [
       "{'ticker': 'EURAUD',\n",
       " 'use_new_data': False,\n",
       " 'n_observations': 2500,\n",
       " 'p': 1,\n",
       " 'q': 1,\n",
       " 'success': True,\n",
       " 'message': \"Trained and saved 'models\\\\EURAUD_2023-02-25T10.04.19.058387.pkl'. Metrics: AIC 3628.390721682199, BIC 3651.686905725624.\"}"
      ]
     },
     "execution_count": 46,
     "metadata": {},
     "output_type": "execute_result"
    }
   ],
   "source": [
    "sub_6 = response.json()\n",
    "sub_6"
   ]
  },
  {
   "cell_type": "code",
   "execution_count": 47,
   "id": "0e60c0bb-6e28-4b03-84dc-ab27aa8dc8a9",
   "metadata": {},
   "outputs": [
    {
     "name": "stdout",
     "output_type": "stream",
     "text": [
      "response type: <class 'requests.models.Response'>\n",
      "response status code: 200\n"
     ]
    }
   ],
   "source": [
    "# URL of `/predict` path\n",
    "url = \"http://localhost:8008/predict\"\n",
    "# Data to send to path\n",
    "json = {\"ticker\": f\"{ticker}\", \"n_days\": 5}\n",
    "# Response of post request\n",
    "response = requests.post(url=url, json=json) \n",
    "\n",
    "print(\"response type:\", type(response))\n",
    "print(\"response status code:\", response.status_code)"
   ]
  },
  {
   "cell_type": "code",
   "execution_count": 48,
   "id": "041c36b2-7393-4ec2-acd9-c287de85854d",
   "metadata": {},
   "outputs": [
    {
     "data": {
      "text/plain": [
       "{'ticker': 'EURAUD',\n",
       " 'n_days': 5,\n",
       " 'success': True,\n",
       " 'forecast': {'2023-02-13T00:00:00': 0.5457643230062942,\n",
       "  '2023-02-14T00:00:00': 0.5457949880546636,\n",
       "  '2023-02-15T00:00:00': 0.545825377412741,\n",
       "  '2023-02-16T00:00:00': 0.5458554935743217,\n",
       "  '2023-02-17T00:00:00': 0.5458853390103688},\n",
       " 'message': ''}"
      ]
     },
     "execution_count": 48,
     "metadata": {},
     "output_type": "execute_result"
    }
   ],
   "source": [
    "sub_7 = response.json()\n",
    "sub_7"
   ]
  },
  {
   "cell_type": "code",
   "execution_count": null,
   "id": "3fd2770b-55eb-4a3e-814d-f7010f7c92a9",
   "metadata": {},
   "outputs": [],
   "source": []
  }
 ],
 "metadata": {
  "kernelspec": {
   "display_name": "Python 3 (ipykernel)",
   "language": "python",
   "name": "python3"
  },
  "language_info": {
   "codemirror_mode": {
    "name": "ipython",
    "version": 3
   },
   "file_extension": ".py",
   "mimetype": "text/x-python",
   "name": "python",
   "nbconvert_exporter": "python",
   "pygments_lexer": "ipython3",
   "version": "3.9.12"
  }
 },
 "nbformat": 4,
 "nbformat_minor": 5
}
