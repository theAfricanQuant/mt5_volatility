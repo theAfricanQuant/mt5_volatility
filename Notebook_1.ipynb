{
 "cells": [
  {
   "cell_type": "code",
   "execution_count": 3,
   "id": "bc2b705a-f361-4a52-ba33-a7ee1406e061",
   "metadata": {},
   "outputs": [],
   "source": [
    "%load_ext autoreload\n",
    "%autoreload 2"
   ]
  },
  {
   "cell_type": "code",
   "execution_count": null,
   "id": "d534012e-9bfa-4bff-bd28-583794024123",
   "metadata": {},
   "outputs": [],
   "source": [
    "import pandas as pd\n",
    "import requests\n",
    "import MetaTrader5 as mt"
   ]
  },
  {
   "cell_type": "code",
   "execution_count": 27,
   "id": "87bf5f34-fee4-4c60-b6ec-e9be1b15307c",
   "metadata": {},
   "outputs": [
    {
     "name": "stdout",
     "output_type": "stream",
     "text": [
      "Overwriting .env\n"
     ]
    }
   ],
   "source": [
    "%%writefile .env\n",
    "\n",
    "#\n",
    "# (c) Ricky Macharm, MScFE\n",
    "# https://SisengAI.com\n",
    "#\n",
    "\n",
    "LOGIN = 510005038\n",
    "PASSWORD = \"9t*nW*3Z\" \n",
    "SERVER = \"HantecMarkets-MT5\"\n",
    "\n",
    "DB_NAME = \"cdf.db\"\n",
    "\n",
    "MODEL_DIRECTORY = \"models\""
   ]
  },
  {
   "cell_type": "code",
   "execution_count": 22,
   "id": "0cbcd4eb-f0d2-47d0-8fdf-eded177bedbd",
   "metadata": {},
   "outputs": [
    {
     "name": "stdout",
     "output_type": "stream",
     "text": [
      "Overwriting config.py\n"
     ]
    }
   ],
   "source": [
    "%%writefile config.py\n",
    "\n",
    "#\n",
    "# (c) Ricky Macharm, MScFE\n",
    "# https://SisengAI.com\n",
    "#\n",
    "\n",
    "\n",
    "\"\"\"This module extracts information from your `.env` file.\n",
    "\"\"\"\n",
    "\n",
    "# The os library allows you to communicate with a computer's\n",
    "# operating system: https://docs.python.org/3/library/os.html\n",
    "import os\n",
    "\n",
    "# pydantic used for data validation: https://pydantic-docs.helpmanual.io/\n",
    "from pydantic import BaseSettings\n",
    "\n",
    "\n",
    "def return_full_path(filename: str = \".env\") -> str:\n",
    "    \"\"\"Uses os to return the correct path of the `.env` file.\"\"\"\n",
    "    absolute_path = os.path.abspath(__file__)\n",
    "    directory_name = os.path.dirname(absolute_path)\n",
    "    full_path = os.path.join(directory_name, filename)\n",
    "    return full_path\n",
    "\n",
    "\n",
    "class Settings(BaseSettings):\n",
    "    \"\"\"Uses pydantic to define settings for project.\"\"\"\n",
    "\n",
    "    login: int\n",
    "    password: str\n",
    "    server: str\n",
    "\n",
    "    db_name: str\n",
    "    model_directory: str\n",
    "\n",
    "    class Config:\n",
    "        env_file = return_full_path(\".env\")\n",
    "\n",
    "\n",
    "# Create instance of `Settings` class that will be imported\n",
    "# in lesson notebooks and the other modules for application.\n",
    "settings = Settings()\n"
   ]
  },
  {
   "cell_type": "code",
   "execution_count": 1,
   "id": "cf8ec1dc-4f79-4405-8e4d-031b5fa647a2",
   "metadata": {},
   "outputs": [
    {
     "name": "stdout",
     "output_type": "stream",
     "text": [
      "HantecMarkets-MT5\n"
     ]
    }
   ],
   "source": [
    "# import settings\n",
    "from config import settings\n",
    "\n",
    "# use 'dir' to check out the attributes\n",
    "print(settings.server)"
   ]
  },
  {
   "cell_type": "code",
   "execution_count": 22,
   "id": "9e08537b-23f8-4acb-85a6-975f271b7fab",
   "metadata": {},
   "outputs": [
    {
     "name": "stdout",
     "output_type": "stream",
     "text": [
      "Overwriting hantec_MT5.py\n"
     ]
    }
   ],
   "source": [
    "%%writefile hantec_MT5.py\n",
    "\n",
    "#\n",
    "# (c) Ricky Macharm, MScFE\n",
    "# https://SisengAI.com\n",
    "#\n",
    "\n",
    "\n",
    "\n",
    "import numpy as np\n",
    "import pandas as pd\n",
    "from config import settings\n",
    "import MetaTrader5 as mt\n",
    "\n",
    "\n",
    "\n",
    "mt.initialize()\n",
    " \n",
    "# log in to trading account\n",
    "mt.login(settings.login, settings.password, settings.server)\n",
    "\n",
    "def hantec_data(ticker, tf=\"D1\", start_bar = 0, num_bars = 99999):\n",
    "    \n",
    "    \"\"\"Code to get the desired trading instrument, time frame and the \n",
    "    features of 'open', 'high', 'low' and 'close ' arranged in a convenient fashion\n",
    "    from the mt5 platform and returned as a DataFrame\"\"\"\n",
    "    \n",
    "    ticker_list = [s.name for s in mt.symbols_get()]\n",
    "    if ticker not in ticker_list:\n",
    "                raise Exception(\n",
    "                    f\"Invalid Ticker name. {settings.server} does not contain '{ticker}'.\"\n",
    "                   # f\"Here is a list of all the tickers found: {print(pd.Series(ticker_list).to_string())}\"\n",
    "                )\n",
    "    \n",
    "    timeframe = eval(f'mt.TIMEFRAME_{tf}') # to remove the quotation marks\n",
    "    bars = mt.copy_rates_from_pos(ticker, timeframe, start_bar, num_bars)\n",
    "        \n",
    "    return (pd.DataFrame(bars)\n",
    "         .assign(date = lambda x: \n",
    "                 pd.to_datetime(x['time'], unit='s'))\n",
    "         .drop(['spread', 'real_volume', 'time'], axis=1)\n",
    "         #.pipe(lambda x: x.loc[x.tick_volume > 10])\n",
    "         .set_index('date')\n",
    "        )  \n",
    "    \n",
    "tickers = ['AUDUSD', 'EURJPY', 'EURUSD', 'GBPJPY', 'GBPUSD', 'USDCAD', 'USDCHF', 'USDJPY', \n",
    "        'AUDCAD', 'AUDCHF', 'AUDJPY', 'AUDNZD', 'CADCHF', 'CADJPY', 'CHFJPY', 'EURAUD',\n",
    "        'EURCAD', 'EURCHF', 'EURGBP', 'EURNZD', 'GBPAUD', 'GBPCAD', 'GBPCHF', 'GBPNZD', 'US500',\n",
    "        'NZDCAD', 'NZDCHF', 'NZDJPY', 'NZDUSD', 'XAUUSD', 'US30',  'US100', 'GER40', 'UK100',]\n",
    "    \n"
   ]
  },
  {
   "cell_type": "code",
   "execution_count": 1,
   "id": "cf5edc9c-8702-41be-b49a-89e3c5366f4c",
   "metadata": {},
   "outputs": [
    {
     "ename": "ModuleNotFoundError",
     "evalue": "No module named 'MetaTrader5'",
     "output_type": "error",
     "traceback": [
      "\u001b[0;31m---------------------------------------------------------------------------\u001b[0m",
      "\u001b[0;31mModuleNotFoundError\u001b[0m                       Traceback (most recent call last)",
      "Input \u001b[0;32mIn [1]\u001b[0m, in \u001b[0;36m<cell line: 1>\u001b[0;34m()\u001b[0m\n\u001b[0;32m----> 1\u001b[0m \u001b[38;5;28;01mfrom\u001b[39;00m \u001b[38;5;21;01mhantec_MT5\u001b[39;00m \u001b[38;5;28;01mimport\u001b[39;00m \u001b[38;5;241m*\u001b[39m\n",
      "File \u001b[0;32m/mnt/g/My Drive/sisengai/AlgorithmicTrading/code_rebuilding/vectorizedBacktesting/Project_8/hantec_MT5.py:12\u001b[0m, in \u001b[0;36m<module>\u001b[0;34m\u001b[0m\n\u001b[1;32m     10\u001b[0m \u001b[38;5;28;01mimport\u001b[39;00m \u001b[38;5;21;01mpandas\u001b[39;00m \u001b[38;5;28;01mas\u001b[39;00m \u001b[38;5;21;01mpd\u001b[39;00m\n\u001b[1;32m     11\u001b[0m \u001b[38;5;28;01mfrom\u001b[39;00m \u001b[38;5;21;01mconfig\u001b[39;00m \u001b[38;5;28;01mimport\u001b[39;00m settings\n\u001b[0;32m---> 12\u001b[0m \u001b[38;5;28;01mimport\u001b[39;00m \u001b[38;5;21;01mMetaTrader5\u001b[39;00m \u001b[38;5;28;01mas\u001b[39;00m \u001b[38;5;21;01mmt\u001b[39;00m\n\u001b[1;32m     16\u001b[0m mt\u001b[38;5;241m.\u001b[39minitialize()\n\u001b[1;32m     18\u001b[0m \u001b[38;5;66;03m# log in to trading account\u001b[39;00m\n",
      "\u001b[0;31mModuleNotFoundError\u001b[0m: No module named 'MetaTrader5'"
     ]
    }
   ],
   "source": [
    "from hantec_MT5 import *"
   ]
  },
  {
   "cell_type": "code",
   "execution_count": 8,
   "id": "03285c8e-0212-4a25-9cd7-6e9eb37abbc5",
   "metadata": {},
   "outputs": [
    {
     "data": {
      "text/html": [
       "<div>\n",
       "<style scoped>\n",
       "    .dataframe tbody tr th:only-of-type {\n",
       "        vertical-align: middle;\n",
       "    }\n",
       "\n",
       "    .dataframe tbody tr th {\n",
       "        vertical-align: top;\n",
       "    }\n",
       "\n",
       "    .dataframe thead th {\n",
       "        text-align: right;\n",
       "    }\n",
       "</style>\n",
       "<table border=\"1\" class=\"dataframe\">\n",
       "  <thead>\n",
       "    <tr style=\"text-align: right;\">\n",
       "      <th></th>\n",
       "      <th>open</th>\n",
       "      <th>high</th>\n",
       "      <th>low</th>\n",
       "      <th>close</th>\n",
       "      <th>tick_volume</th>\n",
       "    </tr>\n",
       "    <tr>\n",
       "      <th>date</th>\n",
       "      <th></th>\n",
       "      <th></th>\n",
       "      <th></th>\n",
       "      <th></th>\n",
       "      <th></th>\n",
       "    </tr>\n",
       "  </thead>\n",
       "  <tbody>\n",
       "    <tr>\n",
       "      <th>1971-01-04</th>\n",
       "      <td>0.53690</td>\n",
       "      <td>0.53690</td>\n",
       "      <td>0.53690</td>\n",
       "      <td>0.53690</td>\n",
       "      <td>1</td>\n",
       "    </tr>\n",
       "    <tr>\n",
       "      <th>1971-01-05</th>\n",
       "      <td>0.53660</td>\n",
       "      <td>0.53660</td>\n",
       "      <td>0.53660</td>\n",
       "      <td>0.53660</td>\n",
       "      <td>1</td>\n",
       "    </tr>\n",
       "    <tr>\n",
       "      <th>1971-01-06</th>\n",
       "      <td>0.53650</td>\n",
       "      <td>0.53650</td>\n",
       "      <td>0.53650</td>\n",
       "      <td>0.53650</td>\n",
       "      <td>1</td>\n",
       "    </tr>\n",
       "    <tr>\n",
       "      <th>1971-01-07</th>\n",
       "      <td>0.53680</td>\n",
       "      <td>0.53680</td>\n",
       "      <td>0.53680</td>\n",
       "      <td>0.53680</td>\n",
       "      <td>1</td>\n",
       "    </tr>\n",
       "    <tr>\n",
       "      <th>1971-01-08</th>\n",
       "      <td>0.53710</td>\n",
       "      <td>0.53710</td>\n",
       "      <td>0.53710</td>\n",
       "      <td>0.53710</td>\n",
       "      <td>1</td>\n",
       "    </tr>\n",
       "    <tr>\n",
       "      <th>...</th>\n",
       "      <td>...</td>\n",
       "      <td>...</td>\n",
       "      <td>...</td>\n",
       "      <td>...</td>\n",
       "      <td>...</td>\n",
       "    </tr>\n",
       "    <tr>\n",
       "      <th>2023-02-28</th>\n",
       "      <td>1.06083</td>\n",
       "      <td>1.06451</td>\n",
       "      <td>1.05741</td>\n",
       "      <td>1.05750</td>\n",
       "      <td>61847</td>\n",
       "    </tr>\n",
       "    <tr>\n",
       "      <th>2023-03-01</th>\n",
       "      <td>1.05755</td>\n",
       "      <td>1.06912</td>\n",
       "      <td>1.05653</td>\n",
       "      <td>1.06666</td>\n",
       "      <td>77008</td>\n",
       "    </tr>\n",
       "    <tr>\n",
       "      <th>2023-03-02</th>\n",
       "      <td>1.06660</td>\n",
       "      <td>1.06728</td>\n",
       "      <td>1.05765</td>\n",
       "      <td>1.05968</td>\n",
       "      <td>66760</td>\n",
       "    </tr>\n",
       "    <tr>\n",
       "      <th>2023-03-03</th>\n",
       "      <td>1.05967</td>\n",
       "      <td>1.06386</td>\n",
       "      <td>1.05882</td>\n",
       "      <td>1.06349</td>\n",
       "      <td>58625</td>\n",
       "    </tr>\n",
       "    <tr>\n",
       "      <th>2023-03-06</th>\n",
       "      <td>1.06250</td>\n",
       "      <td>1.06574</td>\n",
       "      <td>1.06200</td>\n",
       "      <td>1.06406</td>\n",
       "      <td>28581</td>\n",
       "    </tr>\n",
       "  </tbody>\n",
       "</table>\n",
       "<p>14548 rows × 5 columns</p>\n",
       "</div>"
      ],
      "text/plain": [
       "               open     high      low    close  tick_volume\n",
       "date                                                       \n",
       "1971-01-04  0.53690  0.53690  0.53690  0.53690            1\n",
       "1971-01-05  0.53660  0.53660  0.53660  0.53660            1\n",
       "1971-01-06  0.53650  0.53650  0.53650  0.53650            1\n",
       "1971-01-07  0.53680  0.53680  0.53680  0.53680            1\n",
       "1971-01-08  0.53710  0.53710  0.53710  0.53710            1\n",
       "...             ...      ...      ...      ...          ...\n",
       "2023-02-28  1.06083  1.06451  1.05741  1.05750        61847\n",
       "2023-03-01  1.05755  1.06912  1.05653  1.06666        77008\n",
       "2023-03-02  1.06660  1.06728  1.05765  1.05968        66760\n",
       "2023-03-03  1.05967  1.06386  1.05882  1.06349        58625\n",
       "2023-03-06  1.06250  1.06574  1.06200  1.06406        28581\n",
       "\n",
       "[14548 rows x 5 columns]"
      ]
     },
     "execution_count": 8,
     "metadata": {},
     "output_type": "execute_result"
    }
   ],
   "source": [
    "hantec_data(\"EURUSD\")"
   ]
  },
  {
   "cell_type": "code",
   "execution_count": 9,
   "id": "1b92342c-fb45-486d-bf56-e81b3dba5c8d",
   "metadata": {},
   "outputs": [
    {
     "data": {
      "text/plain": [
       "2488"
      ]
     },
     "execution_count": 9,
     "metadata": {},
     "output_type": "execute_result"
    }
   ],
   "source": [
    "mt.symbols_total()"
   ]
  },
  {
   "cell_type": "code",
   "execution_count": 10,
   "id": "515c76d1-acdb-45f2-b9e8-6c98e6b797fd",
   "metadata": {},
   "outputs": [
    {
     "name": "stdout",
     "output_type": "stream",
     "text": [
      "MetaTrader5 package author: MetaQuotes Ltd.\n",
      "MetaTrader5 package version: 5.0.37\n"
     ]
    }
   ],
   "source": [
    "# display data on the MetaTrader 5 package\n",
    "print(f\"MetaTrader5 package author: {mt.__author__}\")\n",
    "print(f\"MetaTrader5 package version: {mt.__version__}\")"
   ]
  },
  {
   "cell_type": "code",
   "execution_count": 11,
   "id": "28e3e0d7-055c-4fbd-9e33-f64034f59a2c",
   "metadata": {},
   "outputs": [
    {
     "name": "stdout",
     "output_type": "stream",
     "text": [
      "Tickers:  2488\n"
     ]
    }
   ],
   "source": [
    "tickers=mt.symbols_get()\n",
    "print('Tickers: ', len(tickers))"
   ]
  },
  {
   "cell_type": "code",
   "execution_count": 6,
   "id": "609cd574-5889-4ed5-9b8e-5316bb972a38",
   "metadata": {},
   "outputs": [
    {
     "name": "stdout",
     "output_type": "stream",
     "text": [
      "1. EURUSD\n",
      "2. AUDUSD\n",
      "3. EURGBP\n",
      "4. GBPUSD\n",
      "5. NZDUSD\n",
      "\n"
     ]
    }
   ],
   "source": [
    "count=0\n",
    "# display the first five ones\n",
    "for s in tickers:\n",
    "    count+=1\n",
    "    print(f\"{count}. {s.name}\")\n",
    "    if count==5: break\n",
    "print()"
   ]
  },
  {
   "cell_type": "code",
   "execution_count": 12,
   "id": "c9228ef5-a0bb-419f-96d9-f09b20115b4f",
   "metadata": {},
   "outputs": [
    {
     "data": {
      "text/plain": [
       "tuple"
      ]
     },
     "execution_count": 12,
     "metadata": {},
     "output_type": "execute_result"
    }
   ],
   "source": [
    "type(tickers)"
   ]
  },
  {
   "cell_type": "code",
   "execution_count": null,
   "id": "193bcbb6-282d-4ce0-91f6-5fb78f7905f8",
   "metadata": {},
   "outputs": [],
   "source": [
    "ticker_list = [s.name for s in tickers]\n",
    "ticker_list"
   ]
  },
  {
   "cell_type": "code",
   "execution_count": null,
   "id": "b0d43aae-c0e9-44d7-862d-156552522ed0",
   "metadata": {},
   "outputs": [],
   "source": [
    "ticker_list = []\n",
    "for s in tickers:\n",
    "    ticker_list.append(s.name)\n",
    "    \n",
    "ticker_list"
   ]
  },
  {
   "cell_type": "code",
   "execution_count": null,
   "id": "56159c12-5e5d-4556-a945-db9efa8f0cc8",
   "metadata": {},
   "outputs": [],
   "source": []
  }
 ],
 "metadata": {
  "kernelspec": {
   "display_name": "Python 3 (ipykernel)",
   "language": "python",
   "name": "python3"
  },
  "language_info": {
   "codemirror_mode": {
    "name": "ipython",
    "version": 3
   },
   "file_extension": ".py",
   "mimetype": "text/x-python",
   "name": "python",
   "nbconvert_exporter": "python",
   "pygments_lexer": "ipython3",
   "version": "3.9.15"
  }
 },
 "nbformat": 4,
 "nbformat_minor": 5
}
