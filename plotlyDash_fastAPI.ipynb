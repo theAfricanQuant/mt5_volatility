{
 "cells": [
  {
   "cell_type": "code",
   "execution_count": 1,
   "id": "7edf493b-33c6-4814-b8fc-9fcbf1722d51",
   "metadata": {},
   "outputs": [
    {
     "name": "stdout",
     "output_type": "stream",
     "text": [
      "Writing plotlyDash_fastAPI.py\n"
     ]
    }
   ],
   "source": [
    "%%writefile plotlyDash_fastAPI.py\n",
    "\n",
    "\n",
    "#\n",
    "# (c) Ricky Macharm, MScFE\n",
    "# https://SisengAI.com\n",
    "#\n",
    "\n",
    "\n",
    "from fastapi import FastAPI\n",
    "from fastapi.staticfiles import StaticFiles\n",
    "from fastapi.responses import HTMLResponse\n",
    "import dash\n",
    "import dash_core_components as dcc\n",
    "import dash_html_components as html\n",
    "\n",
    "# Create the FastAPI application\n",
    "app = FastAPI()\n",
    "\n",
    "# Mount the Plotly Dash application as a sub-application\n",
    "dash_app = dash.Dash(__name__, server=app, url_base_pathname='/dash')\n",
    "\n",
    "# Define the layout of the Plotly Dash application\n",
    "dash_app.layout = html.Div(children=[\n",
    "    html.H1(children='Hello Dash'),\n",
    "    dcc.Graph(\n",
    "        id='example-graph',\n",
    "        figure={\n",
    "            'data': [\n",
    "                {'x': [1, 2, 3], 'y': [4, 1, 2], 'type': 'bar', 'name': 'SF'},\n",
    "                {'x': [1, 2, 3], 'y': [2, 4, 5], 'type': 'bar', 'name': u'Montréal'},\n",
    "            ],\n",
    "            'layout': {\n",
    "                'title': 'Dash Data Visualization'\n",
    "            }\n",
    "        }\n",
    "    )\n",
    "])\n",
    "\n",
    "# Serve the Plotly Dash application as an HTML response\n",
    "@app.get(\"/\", response_class=HTMLResponse)\n",
    "async def read_root():\n",
    "    return dash_app.index()\n",
    "\n",
    "# Serve static files (if any) from the \"static\" directory\n",
    "app.mount(\"/static\", StaticFiles(directory=\"static\"), name=\"static\")\n"
   ]
  },
  {
   "cell_type": "code",
   "execution_count": null,
   "id": "ef0546e9-e3ed-4665-8a94-f4300392be51",
   "metadata": {},
   "outputs": [],
   "source": []
  }
 ],
 "metadata": {
  "kernelspec": {
   "display_name": "Python 3 (ipykernel)",
   "language": "python",
   "name": "python3"
  },
  "language_info": {
   "codemirror_mode": {
    "name": "ipython",
    "version": 3
   },
   "file_extension": ".py",
   "mimetype": "text/x-python",
   "name": "python",
   "nbconvert_exporter": "python",
   "pygments_lexer": "ipython3",
   "version": "3.9.12"
  }
 },
 "nbformat": 4,
 "nbformat_minor": 5
}
